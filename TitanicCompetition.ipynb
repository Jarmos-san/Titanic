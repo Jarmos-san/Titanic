{
  "nbformat": 4,
  "nbformat_minor": 0,
  "metadata": {
    "colab": {
      "name": "TitanicCompetition.ipynb",
      "provenance": [],
      "authorship_tag": "ABX9TyNS9ARGMzaCjH83ReXgSXG8",
      "include_colab_link": true
    },
    "kernelspec": {
      "name": "python3",
      "display_name": "Python 3"
    }
  },
  "cells": [
    {
      "cell_type": "markdown",
      "metadata": {
        "id": "view-in-github",
        "colab_type": "text"
      },
      "source": [
        "<a href=\"https://colab.research.google.com/github/Jarmos-san/Titanic/blob/master/TitanicCompetition.ipynb\" target=\"_parent\"><img src=\"https://colab.research.google.com/assets/colab-badge.svg\" alt=\"Open In Colab\"/></a>"
      ]
    },
    {
      "cell_type": "markdown",
      "metadata": {
        "id": "y_KC22ihSKiH",
        "colab_type": "text"
      },
      "source": [
        "# **[Titanic: Machine Learning from Disaster](https://www.kaggle.com/c/titanic)**\n",
        "---\n",
        "\n",
        "## **Table of Content**\n",
        "\n",
        "- [Competition Description](https://render.githubusercontent.com/view/ipynb?commit=17c5271116e3f9b1b56059a4cc4e05e30efeafd9&enc_url=68747470733a2f2f7261772e67697468756275736572636f6e74656e742e636f6d2f4a61726d6f732d73616e2f546974616e69632f313763353237313131366533663962316235363035396134636334653035653330656665616664392f546974616e6963436f6d7065746974696f6e2e6970796e62&nwo=Jarmos-san%2FTitanic&path=TitanicCompetition.ipynb&repository_id=235324548&repository_type=Repository#The-Challenge)\n",
        "- [Preparing the Notebook](https://render.githubusercontent.com/view/ipynb?commit=17c5271116e3f9b1b56059a4cc4e05e30efeafd9&enc_url=68747470733a2f2f7261772e67697468756275736572636f6e74656e742e636f6d2f4a61726d6f732d73616e2f546974616e69632f313763353237313131366533663962316235363035396134636334653035653330656665616664392f546974616e6963436f6d7065746974696f6e2e6970796e62&nwo=Jarmos-san%2FTitanic&path=TitanicCompetition.ipynb&repository_id=235324548&repository_type=Repository#Preparing-the-Notebook)\n",
        "- [Importing Necessary Libraries](https://render.githubusercontent.com/view/ipynb?commit=17c5271116e3f9b1b56059a4cc4e05e30efeafd9&enc_url=68747470733a2f2f7261772e67697468756275736572636f6e74656e742e636f6d2f4a61726d6f732d73616e2f546974616e69632f313763353237313131366533663962316235363035396134636334653035653330656665616664392f546974616e6963436f6d7065746974696f6e2e6970796e62&nwo=Jarmos-san%2FTitanic&path=TitanicCompetition.ipynb&repository_id=235324548&repository_type=Repository#Importing-Necessary-Libraries)\n",
        "- [Dataset Overview](https://render.githubusercontent.com/view/ipynb?commit=17c5271116e3f9b1b56059a4cc4e05e30efeafd9&enc_url=68747470733a2f2f7261772e67697468756275736572636f6e74656e742e636f6d2f4a61726d6f732d73616e2f546974616e69632f313763353237313131366533663962316235363035396134636334653035653330656665616664392f546974616e6963436f6d7065746974696f6e2e6970796e62&nwo=Jarmos-san%2FTitanic&path=TitanicCompetition.ipynb&repository_id=235324548&repository_type=Repository#Dataset-Overview)\n",
        "\n",
        "## **Description**\n",
        "\n",
        "####**The Challenge**\n",
        "\n",
        "The sinking of the Titanic is one of the most infamous shipwrecks in history.\n",
        "\n",
        "On April 15, 1912, during her maiden voyage, the widely considered “unsinkable” RMS Titanic sank after colliding with an iceberg. Unfortunately, there weren’t enough lifeboats for everyone onboard, resulting in the death of 1502 out of 2224 passengers and crew.\n",
        "\n",
        "While there was some element of luck involved in surviving, it seems some groups of people were more likely to survive than others.\n",
        "\n",
        "*In this challenge, we ask you to build a predictive model that answers the question: “**what sorts of people were more likely to survive?**” using passenger data (ie name, age, gender, socio-economic class, etc).*\n",
        "\n",
        "#### **What Data Will I Use in This Competition?**\n",
        "\n",
        "In this competition, you’ll gain access to two similar datasets that include passenger information like name, age, gender, socio-economic class, etc. One dataset is titled `train.csv` and the other is titled `test.csv`.\n",
        "\n",
        "Train.csv will contain the details of a subset of the passengers on board (891 to be exact) and importantly, will reveal whether they survived or not, also known as the “ground truth”.\n",
        "\n",
        "The `test.csv` dataset contains similar information but does not disclose the “ground truth” for each passenger. It’s your job to predict these outcomes.\n",
        "\n",
        "Using the patterns you find in the train.csv data, predict whether the other 418 passengers on board (found in test.csv) survived.\n",
        "\n",
        "#### **Evaluation**\n",
        "\n",
        "1. **Goal**:\n",
        "\n",
        "  It is your job to predict if a passenger survived the sinking of the Titanic or not.\n",
        "  For each in the test set, you must predict a 0 or 1 value for the variable.\n",
        "2. **Metric**:\n",
        "\n",
        "  Your score is the percentage of passengers you correctly predict. This is known as [accuracy](https://en.wikipedia.org/wiki/Accuracy_and_precision#In_binary_classification).\n",
        "3. **Submission File Format**:\n",
        "\n",
        "  You should submit a csv file with exactly 418 entries plus a header row. Your submission will show an error if you have extra columns (beyond PassengerId and Survived) or rows.\n",
        "\n",
        "  The file should have exactly 2 columns:\n",
        "  - PassengerId (sorted in any order)\n",
        "  - Survived (contains your binary predictions: `1` for survived, `0` for deceased)\n",
        "    \n",
        "    ```\n",
        "    PassengerId,Survived\n",
        "    892,0\n",
        "    893,1\n",
        "    894,0\n",
        "    Etc.\n",
        "    ```\n",
        "\n",
        "  You can download an example submission file (gender_submission.csv) on the Data page.\n",
        "\n",
        "## **Data** \n",
        "\n",
        "#### **Overview**\n",
        "\n",
        "The data has been split into two groups:\n",
        "- training set (`train.csv`)\n",
        "- test set (`test.csv`)\n",
        "\n",
        "The **training set** should be used to build your machine learning models. For the training set, we provide the outcome (also known as the “ground truth”) for each passenger. Your model will be based on “features” like `passengers’` `gender` and `class`. You can also use feature engineering to create new features.\n",
        "\n",
        "The **test set** should be used to see how well your model performs on unseen data. For the test set, we do not provide the ground truth for each passenger. It is your job to predict these outcomes. For each passenger in the test set, use the model you trained to predict whether or not they survived the sinking of the Titanic.\n",
        "\n",
        "We also include `gender_submission.csv`, a set of predictions that assume all and only female passengers survive, as an example of what a submission file should look like.\n",
        "\n",
        "#### **Data Dictionary**\n",
        "\n",
        "| Variable |          Definition          |                      Key                      |\n",
        "|----------|------------------------------|-----------------------------------------------|\n",
        "| survival | Survival                     | `0`=No,`1`=Yes                                |\n",
        "| pclass   | Ticket Class                 | `1`=1st,`2`=2nd,`3`=3rd                       |\n",
        "| sex      | Gender                       |                                               |\n",
        "| Age      | Age in Years                 |                                               |\n",
        "| sibsp    | # of Siblings/Spouses aboard |                                               |\n",
        "| parch    | # of parents/Children aboard |                                               |\n",
        "| ticket   | Ticket Number                |                                               |\n",
        "| fare     | Ticket Fare                  |                                               |\n",
        "| cabin    | Cabin Number                 |                                               |\n",
        "| embarked | Port of Embarkation          | `C`=Cherboug,`Q`=Queenstown,`S`=Southampton   |\n",
        "\n",
        "#### **Variable Notes**\n",
        "\n",
        "- `pclass`: A proxy for socio-economic status (SES)\n",
        "  \n",
        "  - 1st = Upper\n",
        "  - 2nd = Middle\n",
        "  - 3rd = Lower\n",
        "\n",
        "- `age`: Age is fractional if less than 1. If the age is estimated, is it in the form of xx.5\n",
        "\n",
        "- `sibsp`: The dataset defines family relations in this way...\n",
        "  - `Sibling` = brother, sister, stepbrother, stepsister\n",
        "  - `Spouse` = husband, wife (mistresses and fiancés were ignored)\n",
        "\n",
        "- `parch`: The dataset defines family relations in this way...\n",
        "  - Parent = mother, father\n",
        "  - Child = daughter, son, stepdaughter, stepson\n",
        "  - Some children travelled only with a nanny, therefore parch=0 for them."
      ]
    },
    {
      "cell_type": "markdown",
      "metadata": {
        "id": "tBnfk150RbAb",
        "colab_type": "text"
      },
      "source": [
        "## Preparing the Notebook"
      ]
    },
    {
      "cell_type": "code",
      "metadata": {
        "id": "dft9_ZY3QLwc",
        "colab_type": "code",
        "colab": {
          "base_uri": "https://localhost:8080/",
          "height": 349
        },
        "outputId": "33b48c4c-4551-4d82-c6a3-c0b8a5a62dd3"
      },
      "source": [
        "# Mount GDrive to current Colab instance\n",
        "from google.colab import drive\n",
        "drive.mount('/content/gdrive', force_remount=True)\n",
        "\n",
        "# Setup Kaggle creds to the Colab Instance\n",
        "import os\n",
        "os.environ['KAGGLE_CONFIG_DIR']='/content/gdrive/My Drive/Kaggle'\n",
        "\n",
        "# Changing directory to download competition data to the ../Titanic/Data folder\n",
        "%cd /content/gdrive/My Drive/Titanic/Data\n",
        "\n",
        "# Downloading the required data\n",
        "!kaggle competitions download -c titanic\n",
        "\n",
        "# Changing back to working directory\n",
        "%cd /content/gdrive/My Drive/Titanic"
      ],
      "execution_count": 1,
      "outputs": [
        {
          "output_type": "stream",
          "text": [
            "Go to this URL in a browser: https://accounts.google.com/o/oauth2/auth?client_id=947318989803-6bn6qk8qdgf4n4g3pfee6491hc0brc4i.apps.googleusercontent.com&redirect_uri=urn%3aietf%3awg%3aoauth%3a2.0%3aoob&response_type=code&scope=email%20https%3a%2f%2fwww.googleapis.com%2fauth%2fdocs.test%20https%3a%2f%2fwww.googleapis.com%2fauth%2fdrive%20https%3a%2f%2fwww.googleapis.com%2fauth%2fdrive.photos.readonly%20https%3a%2f%2fwww.googleapis.com%2fauth%2fpeopleapi.readonly\n",
            "\n",
            "Enter your authorization code:\n",
            "··········\n",
            "Mounted at /content/gdrive\n",
            "/content/gdrive/My Drive/Titanic/Data\n",
            "Warning: Looks like you're using an outdated API Version, please consider updating (server 1.5.6 / client 1.5.4)\n",
            "Downloading gender_submission.csv to /content/gdrive/My Drive/Titanic/Data\n",
            "  0% 0.00/3.18k [00:00<?, ?B/s]\n",
            "100% 3.18k/3.18k [00:00<00:00, 925kB/s]\n",
            "Downloading test.csv to /content/gdrive/My Drive/Titanic/Data\n",
            "  0% 0.00/28.0k [00:00<?, ?B/s]\n",
            "100% 28.0k/28.0k [00:00<00:00, 3.75MB/s]\n",
            "Downloading train.csv to /content/gdrive/My Drive/Titanic/Data\n",
            "  0% 0.00/59.8k [00:00<?, ?B/s]\n",
            "100% 59.8k/59.8k [00:00<00:00, 6.47MB/s]\n",
            "/content/gdrive/My Drive/Titanic\n"
          ],
          "name": "stdout"
        }
      ]
    },
    {
      "cell_type": "markdown",
      "metadata": {
        "id": "9htuzR98S4og",
        "colab_type": "text"
      },
      "source": [
        "# Importing Necessary Libraries\n",
        "\n",
        "- **Pandas** *v0.25.3*\n",
        "- **Seaborn** *v0.10.0*\n",
        "- **Missingno** *v0.4.2*\n",
        "- **Numpy** *v1.17.5*"
      ]
    },
    {
      "cell_type": "code",
      "metadata": {
        "id": "-cpQRNG2Sxek",
        "colab_type": "code",
        "colab": {
          "base_uri": "https://localhost:8080/",
          "height": 90
        },
        "outputId": "e3560cd8-80c3-4dc8-b44c-d514f2bc269c"
      },
      "source": [
        "# Importing the required libraries\n",
        "import pandas as pd\n",
        "import seaborn as sns\n",
        "import numpy as np\n",
        "import matplotlib.pyplot as plt\n",
        "import missingno\n",
        "\n",
        "# import sklearn\n",
        "# from sklearn.impute import SimpleImputer\n",
        "\n",
        "# Checking library versions\n",
        "print(f'Pandas v{pd.__version__}')\n",
        "print(f'Seaborn v{sns.__version__}')\n",
        "print(f'Missingno v{missingno.__version__}')\n",
        "print(f'Numpy v{np.__version__}')\n",
        "# print(f'Sklearn v{sklearn.__version__}')\n",
        "\n",
        "%matplotlib inline\n",
        "sns.set(style='darkgrid')"
      ],
      "execution_count": 2,
      "outputs": [
        {
          "output_type": "stream",
          "text": [
            "Pandas v0.25.3\n",
            "Seaborn v0.10.0\n",
            "Missingno v0.4.2\n",
            "Numpy v1.17.5\n"
          ],
          "name": "stdout"
        }
      ]
    },
    {
      "cell_type": "markdown",
      "metadata": {
        "id": "-QTJ4QJjUPOM",
        "colab_type": "text"
      },
      "source": [
        "# Dataset Overview"
      ]
    },
    {
      "cell_type": "code",
      "metadata": {
        "id": "OA203DFhWqjv",
        "colab_type": "code",
        "colab": {
          "base_uri": "https://localhost:8080/",
          "height": 35
        },
        "outputId": "2aa6789a-8c36-4422-94dd-d4d16b5fc249"
      },
      "source": [
        "# Checking the contents of ../Titanic/Data\n",
        "!ls /content/gdrive/My\\ Drive/Titanic/Data"
      ],
      "execution_count": 9,
      "outputs": [
        {
          "output_type": "stream",
          "text": [
            "gender_submission.csv  test.csv  train.csv\n"
          ],
          "name": "stdout"
        }
      ]
    },
    {
      "cell_type": "code",
      "metadata": {
        "id": "5erf7XpQS8sa",
        "colab_type": "code",
        "colab": {}
      },
      "source": [
        "# Path to the competition data files\n",
        "PATH = '/content/gdrive/My Drive/Titanic/Data/'\n",
        "\n",
        "# Loads the train and test datasets to a DataFrame\n",
        "TrainDF = pd.read_csv(f'{PATH}train.csv')\n",
        "TestDF = pd.read_csv(f'{PATH}test.csv')\n",
        "\n",
        "# Makes a copy of the DataFrame for processing\n",
        "TrainData= TrainDF.copy()\n",
        "TestData= TestDF.copy()"
      ],
      "execution_count": 0,
      "outputs": []
    },
    {
      "cell_type": "code",
      "metadata": {
        "id": "6XUoPm0Lcc-u",
        "colab_type": "code",
        "colab": {}
      },
      "source": [
        ""
      ],
      "execution_count": 0,
      "outputs": []
    }
  ]
}