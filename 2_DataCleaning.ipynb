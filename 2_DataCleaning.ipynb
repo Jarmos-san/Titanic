{
  "nbformat": 4,
  "nbformat_minor": 0,
  "metadata": {
    "colab": {
      "name": "2_DataCleaning.ipynb",
      "provenance": [],
      "authorship_tag": "ABX9TyMtVu3Q623sa87b61Mue+nr",
      "include_colab_link": true
    },
    "kernelspec": {
      "name": "python3",
      "display_name": "Python 3"
    }
  },
  "cells": [
    {
      "cell_type": "markdown",
      "metadata": {
        "id": "view-in-github",
        "colab_type": "text"
      },
      "source": [
        "<a href=\"https://colab.research.google.com/github/Jarmos-san/Titanic/blob/master/2_DataCleaning.ipynb\" target=\"_parent\"><img src=\"https://colab.research.google.com/assets/colab-badge.svg\" alt=\"Open In Colab\"/></a>"
      ]
    },
    {
      "cell_type": "markdown",
      "metadata": {
        "id": "EzurjJxhYob9",
        "colab_type": "text"
      },
      "source": [
        "# Setting up Notebook"
      ]
    },
    {
      "cell_type": "code",
      "metadata": {
        "id": "4GO_F87EXcx4",
        "colab_type": "code",
        "colab": {}
      },
      "source": [
        "from google.colab import drive\n",
        "drive.mount('/content/gdrive')"
      ],
      "execution_count": 0,
      "outputs": []
    },
    {
      "cell_type": "code",
      "metadata": {
        "id": "m25EG7QPYxpy",
        "colab_type": "code",
        "colab": {
          "base_uri": "https://localhost:8080/",
          "height": 72
        },
        "outputId": "613b476d-1d2a-4f4f-b533-064f70d29348"
      },
      "source": [
        "%cd /content/gdrive/My\\ Drive/Titanic/Data\n",
        "%ls\n",
        "%pwd"
      ],
      "execution_count": 8,
      "outputs": [
        {
          "output_type": "stream",
          "text": [
            "/content/gdrive/My Drive/Titanic/Data\n",
            "gender_submission.csv  test.csv  train.csv\n"
          ],
          "name": "stdout"
        },
        {
          "output_type": "execute_result",
          "data": {
            "text/plain": [
              "'/content/gdrive/My Drive/Titanic/Data'"
            ]
          },
          "metadata": {
            "tags": []
          },
          "execution_count": 8
        }
      ]
    },
    {
      "cell_type": "code",
      "metadata": {
        "id": "a1zxVMjAZz9W",
        "colab_type": "code",
        "colab": {}
      },
      "source": [
        "import pandas as pd\n",
        "import missingno"
      ],
      "execution_count": 0,
      "outputs": []
    },
    {
      "cell_type": "markdown",
      "metadata": {
        "id": "d94RmlqMj1Su",
        "colab_type": "text"
      },
      "source": [
        "# Loading Datasets to Pandas DataFrame Object"
      ]
    },
    {
      "cell_type": "code",
      "metadata": {
        "id": "AIZ_V-GAZdj4",
        "colab_type": "code",
        "colab": {}
      },
      "source": [
        "# Path to the competition data files\n",
        "PATH = '/content/gdrive/My Drive/Titanic/Data/'\n",
        "\n",
        "# Loads the train and test datasets to a DataFrame\n",
        "TrainDF = pd.read_csv(f'{PATH}train.csv', index_col='PassengerId')\n",
        "TestDF = pd.read_csv(f'{PATH}test.csv', index_col='PassengerId')\n",
        "\n",
        "# Makes a copy of the DataFrame for processing\n",
        "TrainData= TrainDF.copy()\n",
        "TestData= TestDF.copy()"
      ],
      "execution_count": 0,
      "outputs": []
    },
    {
      "cell_type": "markdown",
      "metadata": {
        "id": "zcZDtB40j8cv",
        "colab_type": "text"
      },
      "source": [
        "# Handling Missing Values"
      ]
    },
    {
      "cell_type": "markdown",
      "metadata": {
        "id": "wpI7ubyMj__l",
        "colab_type": "text"
      },
      "source": [
        "### Embarked"
      ]
    },
    {
      "cell_type": "code",
      "metadata": {
        "id": "oN66RqlTaLkw",
        "colab_type": "code",
        "colab": {}
      },
      "source": [
        "TrainData['Embarked'].fillna('S', inplace=True)"
      ],
      "execution_count": 0,
      "outputs": []
    },
    {
      "cell_type": "markdown",
      "metadata": {
        "id": "hym4Cy3ykCGr",
        "colab_type": "text"
      },
      "source": [
        "### Age"
      ]
    },
    {
      "cell_type": "code",
      "metadata": {
        "id": "TDGqq_HugEP0",
        "colab_type": "code",
        "colab": {}
      },
      "source": [
        "TrainData['Age'].fillna(0, inplace=True)"
      ],
      "execution_count": 0,
      "outputs": []
    },
    {
      "cell_type": "markdown",
      "metadata": {
        "id": "Yy04KcbckD7l",
        "colab_type": "text"
      },
      "source": [
        "### Cabin"
      ]
    },
    {
      "cell_type": "code",
      "metadata": {
        "id": "J31-Q7BejhMl",
        "colab_type": "code",
        "colab": {}
      },
      "source": [
        "TrainData['Cabin'].fillna('G6', inplace=True)"
      ],
      "execution_count": 0,
      "outputs": []
    },
    {
      "cell_type": "markdown",
      "metadata": {
        "id": "gEmGG7GNmF61",
        "colab_type": "text"
      },
      "source": [
        "# Dropping Uneccessary Columns"
      ]
    },
    {
      "cell_type": "code",
      "metadata": {
        "id": "nVL_m2itnx0N",
        "colab_type": "code",
        "colab": {}
      },
      "source": [
        "TrainData.drop(labels=['Name', 'Ticket', 'Cabin'], axis='columns', inplace=True)"
      ],
      "execution_count": 0,
      "outputs": []
    },
    {
      "cell_type": "markdown",
      "metadata": {
        "id": "7B4WvU3okMOe",
        "colab_type": "text"
      },
      "source": [
        "# Encode the Variables"
      ]
    },
    {
      "cell_type": "code",
      "metadata": {
        "id": "D8Jh08IMjtOS",
        "colab_type": "code",
        "colab": {
          "base_uri": "https://localhost:8080/",
          "height": 256
        },
        "outputId": "cf6478d1-1eb9-4d6c-ba5d-f537e1a174e2"
      },
      "source": [
        "TrainData.info()"
      ],
      "execution_count": 61,
      "outputs": [
        {
          "output_type": "stream",
          "text": [
            "<class 'pandas.core.frame.DataFrame'>\n",
            "Int64Index: 891 entries, 1 to 891\n",
            "Data columns (total 8 columns):\n",
            "Survived    891 non-null int64\n",
            "Pclass      891 non-null int64\n",
            "Sex         891 non-null object\n",
            "Age         891 non-null float64\n",
            "SibSp       891 non-null int64\n",
            "Parch       891 non-null int64\n",
            "Fare        891 non-null float64\n",
            "Embarked    891 non-null object\n",
            "dtypes: float64(2), int64(4), object(2)\n",
            "memory usage: 62.6+ KB\n"
          ],
          "name": "stdout"
        }
      ]
    },
    {
      "cell_type": "code",
      "metadata": {
        "id": "wh74fcXXoyYJ",
        "colab_type": "code",
        "colab": {}
      },
      "source": [
        "TrainData = pd.get_dummies(TrainData, columns=['Sex', 'Embarked'], drop_first=True)"
      ],
      "execution_count": 0,
      "outputs": []
    },
    {
      "cell_type": "markdown",
      "metadata": {
        "id": "lEV2Pc2zlXAE",
        "colab_type": "text"
      },
      "source": [
        "Notes\n",
        "\n",
        "`Name`, `Ticket`, `Cabin`, have been dropped temporarily. While `Sex`, & `Embarked` are string type objects and are Nominal Categorical Variables."
      ]
    },
    {
      "cell_type": "markdown",
      "metadata": {
        "id": "SG7kiObNyX1m",
        "colab_type": "text"
      },
      "source": [
        "# Save Encoded DataFrame as `.csv`"
      ]
    },
    {
      "cell_type": "code",
      "metadata": {
        "id": "BQAp_uxpyO3S",
        "colab_type": "code",
        "colab": {
          "base_uri": "https://localhost:8080/",
          "height": 175
        },
        "outputId": "f5b39516-0037-46f6-e912-29c00caa2337"
      },
      "source": [
        "TrainData.head(3)"
      ],
      "execution_count": 68,
      "outputs": [
        {
          "output_type": "execute_result",
          "data": {
            "text/html": [
              "<div>\n",
              "<style scoped>\n",
              "    .dataframe tbody tr th:only-of-type {\n",
              "        vertical-align: middle;\n",
              "    }\n",
              "\n",
              "    .dataframe tbody tr th {\n",
              "        vertical-align: top;\n",
              "    }\n",
              "\n",
              "    .dataframe thead th {\n",
              "        text-align: right;\n",
              "    }\n",
              "</style>\n",
              "<table border=\"1\" class=\"dataframe\">\n",
              "  <thead>\n",
              "    <tr style=\"text-align: right;\">\n",
              "      <th></th>\n",
              "      <th>Survived</th>\n",
              "      <th>Pclass</th>\n",
              "      <th>Age</th>\n",
              "      <th>SibSp</th>\n",
              "      <th>Parch</th>\n",
              "      <th>Fare</th>\n",
              "      <th>Sex_male</th>\n",
              "      <th>Embarked_Q</th>\n",
              "      <th>Embarked_S</th>\n",
              "    </tr>\n",
              "    <tr>\n",
              "      <th>PassengerId</th>\n",
              "      <th></th>\n",
              "      <th></th>\n",
              "      <th></th>\n",
              "      <th></th>\n",
              "      <th></th>\n",
              "      <th></th>\n",
              "      <th></th>\n",
              "      <th></th>\n",
              "      <th></th>\n",
              "    </tr>\n",
              "  </thead>\n",
              "  <tbody>\n",
              "    <tr>\n",
              "      <th>1</th>\n",
              "      <td>0</td>\n",
              "      <td>3</td>\n",
              "      <td>22.0</td>\n",
              "      <td>1</td>\n",
              "      <td>0</td>\n",
              "      <td>7.2500</td>\n",
              "      <td>1</td>\n",
              "      <td>0</td>\n",
              "      <td>1</td>\n",
              "    </tr>\n",
              "    <tr>\n",
              "      <th>2</th>\n",
              "      <td>1</td>\n",
              "      <td>1</td>\n",
              "      <td>38.0</td>\n",
              "      <td>1</td>\n",
              "      <td>0</td>\n",
              "      <td>71.2833</td>\n",
              "      <td>0</td>\n",
              "      <td>0</td>\n",
              "      <td>0</td>\n",
              "    </tr>\n",
              "    <tr>\n",
              "      <th>3</th>\n",
              "      <td>1</td>\n",
              "      <td>3</td>\n",
              "      <td>26.0</td>\n",
              "      <td>0</td>\n",
              "      <td>0</td>\n",
              "      <td>7.9250</td>\n",
              "      <td>0</td>\n",
              "      <td>0</td>\n",
              "      <td>1</td>\n",
              "    </tr>\n",
              "  </tbody>\n",
              "</table>\n",
              "</div>"
            ],
            "text/plain": [
              "             Survived  Pclass   Age  ...  Sex_male  Embarked_Q  Embarked_S\n",
              "PassengerId                          ...                                  \n",
              "1                   0       3  22.0  ...         1           0           1\n",
              "2                   1       1  38.0  ...         0           0           0\n",
              "3                   1       3  26.0  ...         0           0           1\n",
              "\n",
              "[3 rows x 9 columns]"
            ]
          },
          "metadata": {
            "tags": []
          },
          "execution_count": 68
        }
      ]
    },
    {
      "cell_type": "code",
      "metadata": {
        "id": "u4_fY6mCz8ci",
        "colab_type": "code",
        "colab": {
          "base_uri": "https://localhost:8080/",
          "height": 182
        },
        "outputId": "6f722b98-50c1-4ead-bcce-4c1a9f92ff0b"
      },
      "source": [
        "list(TrainData.columns)"
      ],
      "execution_count": 70,
      "outputs": [
        {
          "output_type": "execute_result",
          "data": {
            "text/plain": [
              "['Survived',\n",
              " 'Pclass',\n",
              " 'Age',\n",
              " 'SibSp',\n",
              " 'Parch',\n",
              " 'Fare',\n",
              " 'Sex_male',\n",
              " 'Embarked_Q',\n",
              " 'Embarked_S']"
            ]
          },
          "metadata": {
            "tags": []
          },
          "execution_count": 70
        }
      ]
    },
    {
      "cell_type": "code",
      "metadata": {
        "id": "g28yl5yQykIs",
        "colab_type": "code",
        "colab": {}
      },
      "source": [
        "TrainData.to_csv(f'{PATH}EncodedTrainData.csv', header=list(TrainData.columns))"
      ],
      "execution_count": 0,
      "outputs": []
    }
  ]
}