{
  "nbformat": 4,
  "nbformat_minor": 0,
  "metadata": {
    "colab": {
      "name": "Titanic: Machine Learning from Disaster | Kaggle.ipynb",
      "provenance": [],
      "authorship_tag": "ABX9TyNGzFQXN1VpoeSoK7eTCval",
      "include_colab_link": true
    },
    "kernelspec": {
      "name": "python3",
      "display_name": "Python 3"
    }
  },
  "cells": [
    {
      "cell_type": "markdown",
      "metadata": {
        "id": "view-in-github",
        "colab_type": "text"
      },
      "source": [
        "<a href=\"https://colab.research.google.com/github/Jarmos-san/Titanic/blob/master/Titanic_Machine_Learning_from_Disaster_%7C_Kaggle.ipynb\" target=\"_parent\"><img src=\"https://colab.research.google.com/assets/colab-badge.svg\" alt=\"Open In Colab\"/></a>"
      ]
    },
    {
      "cell_type": "markdown",
      "metadata": {
        "id": "3RTBqDdJ1VuB",
        "colab_type": "text"
      },
      "source": [
        "# **[Titanic: Machine Learning from Disaster](https://www.kaggle.com/c/titanic)**\n",
        "\n",
        "---\n",
        "\n",
        "## **Description**\n",
        "\n",
        "####**The Challenge**\n",
        "\n",
        "The sinking of the Titanic is one of the most infamous shipwrecks in history.\n",
        "\n",
        "On April 15, 1912, during her maiden voyage, the widely considered “unsinkable” RMS Titanic sank after colliding with an iceberg. Unfortunately, there weren’t enough lifeboats for everyone onboard, resulting in the death of 1502 out of 2224 passengers and crew.\n",
        "\n",
        "While there was some element of luck involved in surviving, it seems some groups of people were more likely to survive than others.\n",
        "\n",
        "*In this challenge, we ask you to build a predictive model that answers the question: “**what sorts of people were more likely to survive?**” using passenger data (ie name, age, gender, socio-economic class, etc).*\n",
        "\n",
        "#### **What Data Will I Use in This Competition?**\n",
        "\n",
        "In this competition, you’ll gain access to two similar datasets that include passenger information like name, age, gender, socio-economic class, etc. One dataset is titled `train.csv` and the other is titled `test.csv`.\n",
        "\n",
        "Train.csv will contain the details of a subset of the passengers on board (891 to be exact) and importantly, will reveal whether they survived or not, also known as the “ground truth”.\n",
        "\n",
        "The `test.csv` dataset contains similar information but does not disclose the “ground truth” for each passenger. It’s your job to predict these outcomes.\n",
        "\n",
        "Using the patterns you find in the train.csv data, predict whether the other 418 passengers on board (found in test.csv) survived.\n",
        "\n",
        "#### **Evaluation**\n",
        "\n",
        "1. **Goal**:\n",
        "\n",
        "  It is your job to predict if a passenger survived the sinking of the Titanic or not.\n",
        "  For each in the test set, you must predict a 0 or 1 value for the variable.\n",
        "2. **Metric**:\n",
        "\n",
        "  Your score is the percentage of passengers you correctly predict. This is known as [accuracy](https://en.wikipedia.org/wiki/Accuracy_and_precision#In_binary_classification).\n",
        "3. **Submission File Format**:\n",
        "\n",
        "  You should submit a csv file with exactly 418 entries plus a header row. Your submission will show an error if you have extra columns (beyond PassengerId and Survived) or rows.\n",
        "\n",
        "  The file should have exactly 2 columns:\n",
        "  - PassengerId (sorted in any order)\n",
        "  - Survived (contains your binary predictions: `1` for survived, `0` for deceased)\n",
        "    \n",
        "    ```\n",
        "    PassengerId,Survived\n",
        "    892,0\n",
        "    893,1\n",
        "    894,0\n",
        "    Etc.\n",
        "    ```\n",
        "\n",
        "  You can download an example submission file (gender_submission.csv) on the Data page.\n",
        "\n",
        "## **Data** \n",
        "\n",
        "#### **Overview**\n",
        "\n",
        "The data has been split into two groups:\n",
        "- training set (`train.csv`)\n",
        "- test set (`test.csv`)\n",
        "\n",
        "The **training set** should be used to build your machine learning models. For the training set, we provide the outcome (also known as the “ground truth”) for each passenger. Your model will be based on “features” like `passengers’` `gender` and `class`. You can also use feature engineering to create new features.\n",
        "\n",
        "The **test set** should be used to see how well your model performs on unseen data. For the test set, we do not provide the ground truth for each passenger. It is your job to predict these outcomes. For each passenger in the test set, use the model you trained to predict whether or not they survived the sinking of the Titanic.\n",
        "\n",
        "We also include `gender_submission.csv`, a set of predictions that assume all and only female passengers survive, as an example of what a submission file should look like.\n",
        "\n",
        "#### **Data Dictionary**\n",
        "\n",
        "| Variable |          Definition          |                      Key                      |\n",
        "|----------|------------------------------|-----------------------------------------------|\n",
        "| survival | Survival                     | `0`=No,`1`=Yes                                |\n",
        "| pclass   | Ticket Class                 | `1`=1st,`2`=2nd,`3`=3rd                       |\n",
        "| sex      | Gender                       |                                               |\n",
        "| Age      | Age in Years                 |                                               |\n",
        "| sibsp    | # of Siblings/Spouses aboard |                                               |\n",
        "| parch    | # of parents/Children aboard |                                               |\n",
        "| ticket   | Ticket Number                |                                               |\n",
        "| fare     | Ticket Fare                  |                                               |\n",
        "| cabin    | Cabin Number                 |                                               |\n",
        "| embarked | Port of Embarkation          | `C`=Cherboug,`Q`=Queenstown,`S`=Southampton   |\n",
        "\n",
        "#### **Variable Notes**\n",
        "\n",
        "- `pclass`: A proxy for socio-economic status (SES)\n",
        "  \n",
        "  - 1st = Upper\n",
        "  - 2nd = Middle\n",
        "  - 3rd = Lower\n",
        "\n",
        "- `age`: Age is fractional if less than 1. If the age is estimated, is it in the form of xx.5\n",
        "\n",
        "- `sibsp`: The dataset defines family relations in this way...\n",
        "  - `Sibling` = brother, sister, stepbrother, stepsister\n",
        "  - `Spouse` = husband, wife (mistresses and fiancés were ignored)\n",
        "\n",
        "- `parch`: The dataset defines family relations in this way...\n",
        "  - Parent = mother, father\n",
        "  - Child = daughter, son, stepdaughter, stepson\n",
        "  - Some children travelled only with a nanny, therefore parch=0 for them."
      ]
    },
    {
      "cell_type": "markdown",
      "metadata": {
        "id": "HUi5a0BQBWmD",
        "colab_type": "text"
      },
      "source": [
        "## Setting Up the Notebook"
      ]
    },
    {
      "cell_type": "code",
      "metadata": {
        "id": "vGdE9jWbBcJS",
        "colab_type": "code",
        "colab": {}
      },
      "source": [
        "# Install PyDrive into the Colab instance\n",
        "!pip install -U -q PyDrive\n",
        "\n",
        "# Import the required libraries from PyDrive \n",
        "from pydrive.auth import GoogleAuth\n",
        "from pydrive.drive import GoogleDrive\n",
        "from google.colab import auth\n",
        "from oauth2client.client import GoogleCredentials\n",
        "\n",
        "# Authenticate and create the PyDrive instance.\n",
        "auth.authenticate_user()\n",
        "gauth = GoogleAuth()\n",
        "gauth.credentials = GoogleCredentials.get_application_default()\n",
        "drive = GoogleDrive(gauth)\n",
        "\n",
        "# Get shareable link by right-clicking on the required file from GDrive\n",
        "shareableLinkTest = 'https://drive.google.com/open?id=1OyL0Mlt3vU44zmamL_iwPBwVSu2xuCJ-'\n",
        "shareableLinkTrain = 'https://drive.google.com/open?id=12pDq5mWPFqps0yFV3epfrvgVaf4l44bk'\n",
        "\n",
        "# Get a string of numbers\n",
        "_, TestID = shareableLinkTest.split('=')\n",
        "_, TrainID = shareableLinkTrain.split('=')\n",
        "\n",
        "# Create Pandas dataframe\n",
        "getTestID = drive.CreateFile({'id': TestID}) \n",
        "getTestID.GetContentFile('test.csv')\n",
        "\n",
        "getTrainID = drive.CreateFile({'id': TrainID})\n",
        "getTrainID.GetContentFile('train.csv')"
      ],
      "execution_count": 0,
      "outputs": []
    },
    {
      "cell_type": "markdown",
      "metadata": {
        "id": "Zwt_9nkWHFkk",
        "colab_type": "text"
      },
      "source": [
        "# Importing Libraries\n",
        "\n",
        "- **Pandas** *v0.25.3*\n",
        "- **Seaborn** *v0.9.0*\n",
        "- **Missingno** *v0.4.2*\n",
        "- **Numpy** *v1.17.5*"
      ]
    },
    {
      "cell_type": "code",
      "metadata": {
        "id": "9caDfHINHCBz",
        "colab_type": "code",
        "outputId": "122f0d39-4faa-4b33-b648-9bf389783487",
        "colab": {
          "base_uri": "https://localhost:8080/",
          "height": 0
        }
      },
      "source": [
        "# Importing the required libraries\n",
        "import pandas as pd\n",
        "import seaborn as sns\n",
        "import numpy as np\n",
        "import matplotlib.pyplot as plt\n",
        "import missingno\n",
        "\n",
        "# import sklearn\n",
        "# from sklearn.impute import SimpleImputer\n",
        "\n",
        "# Checking library versions\n",
        "print(f'Pandas v{pd.__version__}')\n",
        "print(f'Seaborn v{sns.__version__}')\n",
        "print(f'Missingno v{missingno.__version__}')\n",
        "print(f'Numpy v{np.__version__}')\n",
        "# print(f'Sklearn v{sklearn.__version__}')\n",
        "\n",
        "%matplotlib inline\n",
        "sns.set(style='darkgrid')\n",
        "plt.figure(figsize=(18,12))"
      ],
      "execution_count": 3,
      "outputs": [
        {
          "output_type": "stream",
          "text": [
            "Pandas v0.25.3\n",
            "Seaborn v0.9.0\n",
            "Missingno v0.4.2\n",
            "Numpy v1.17.5\n"
          ],
          "name": "stdout"
        },
        {
          "output_type": "execute_result",
          "data": {
            "text/plain": [
              "<Figure size 1296x864 with 0 Axes>"
            ]
          },
          "metadata": {
            "tags": []
          },
          "execution_count": 3
        },
        {
          "output_type": "display_data",
          "data": {
            "text/plain": [
              "<Figure size 1296x864 with 0 Axes>"
            ]
          },
          "metadata": {
            "tags": []
          }
        }
      ]
    },
    {
      "cell_type": "markdown",
      "metadata": {
        "id": "ItTBY_ZRH1es",
        "colab_type": "text"
      },
      "source": [
        "# Dataset Overview"
      ]
    },
    {
      "cell_type": "markdown",
      "metadata": {
        "id": "fEX1dbMWH-4r",
        "colab_type": "text"
      },
      "source": [
        "## Load Dataset"
      ]
    },
    {
      "cell_type": "code",
      "metadata": {
        "id": "-tWZ2BQ4gY6z",
        "colab_type": "code",
        "colab": {}
      },
      "source": [
        "PATH = '/content/'\n",
        "\n",
        "def loadDataFrame(data):\n",
        "  '''load the Pandas DataFrame object & output the necessary information'''\n",
        "  df = pd.read_csv(f'{PATH}{data}')\n",
        "  print(f'Size of DataFrame object: {df.shape[0]} rows & {df.shape[1]} columns.')\n",
        "  return df.copy()"
      ],
      "execution_count": 0,
      "outputs": []
    },
    {
      "cell_type": "code",
      "metadata": {
        "id": "hgTe3CNdiI-Q",
        "colab_type": "code",
        "outputId": "2b2e968a-f76a-4a99-b0c9-d950daf92bc6",
        "colab": {
          "base_uri": "https://localhost:8080/",
          "height": 0
        }
      },
      "source": [
        "TrainData = loadDataFrame('train.csv')\n",
        "TrainData.sample(3)"
      ],
      "execution_count": 5,
      "outputs": [
        {
          "output_type": "stream",
          "text": [
            "Size of DataFrame object: 891 rows & 12 columns.\n"
          ],
          "name": "stdout"
        },
        {
          "output_type": "execute_result",
          "data": {
            "text/html": [
              "<div>\n",
              "<style scoped>\n",
              "    .dataframe tbody tr th:only-of-type {\n",
              "        vertical-align: middle;\n",
              "    }\n",
              "\n",
              "    .dataframe tbody tr th {\n",
              "        vertical-align: top;\n",
              "    }\n",
              "\n",
              "    .dataframe thead th {\n",
              "        text-align: right;\n",
              "    }\n",
              "</style>\n",
              "<table border=\"1\" class=\"dataframe\">\n",
              "  <thead>\n",
              "    <tr style=\"text-align: right;\">\n",
              "      <th></th>\n",
              "      <th>PassengerId</th>\n",
              "      <th>Survived</th>\n",
              "      <th>Pclass</th>\n",
              "      <th>Name</th>\n",
              "      <th>Sex</th>\n",
              "      <th>Age</th>\n",
              "      <th>SibSp</th>\n",
              "      <th>Parch</th>\n",
              "      <th>Ticket</th>\n",
              "      <th>Fare</th>\n",
              "      <th>Cabin</th>\n",
              "      <th>Embarked</th>\n",
              "    </tr>\n",
              "  </thead>\n",
              "  <tbody>\n",
              "    <tr>\n",
              "      <th>2</th>\n",
              "      <td>3</td>\n",
              "      <td>1</td>\n",
              "      <td>3</td>\n",
              "      <td>Heikkinen, Miss. Laina</td>\n",
              "      <td>female</td>\n",
              "      <td>26.0</td>\n",
              "      <td>0</td>\n",
              "      <td>0</td>\n",
              "      <td>STON/O2. 3101282</td>\n",
              "      <td>7.9250</td>\n",
              "      <td>NaN</td>\n",
              "      <td>S</td>\n",
              "    </tr>\n",
              "    <tr>\n",
              "      <th>859</th>\n",
              "      <td>860</td>\n",
              "      <td>0</td>\n",
              "      <td>3</td>\n",
              "      <td>Razi, Mr. Raihed</td>\n",
              "      <td>male</td>\n",
              "      <td>NaN</td>\n",
              "      <td>0</td>\n",
              "      <td>0</td>\n",
              "      <td>2629</td>\n",
              "      <td>7.2292</td>\n",
              "      <td>NaN</td>\n",
              "      <td>C</td>\n",
              "    </tr>\n",
              "    <tr>\n",
              "      <th>232</th>\n",
              "      <td>233</td>\n",
              "      <td>0</td>\n",
              "      <td>2</td>\n",
              "      <td>Sjostedt, Mr. Ernst Adolf</td>\n",
              "      <td>male</td>\n",
              "      <td>59.0</td>\n",
              "      <td>0</td>\n",
              "      <td>0</td>\n",
              "      <td>237442</td>\n",
              "      <td>13.5000</td>\n",
              "      <td>NaN</td>\n",
              "      <td>S</td>\n",
              "    </tr>\n",
              "  </tbody>\n",
              "</table>\n",
              "</div>"
            ],
            "text/plain": [
              "     PassengerId  Survived  Pclass  ...     Fare Cabin  Embarked\n",
              "2              3         1       3  ...   7.9250   NaN         S\n",
              "859          860         0       3  ...   7.2292   NaN         C\n",
              "232          233         0       2  ...  13.5000   NaN         S\n",
              "\n",
              "[3 rows x 12 columns]"
            ]
          },
          "metadata": {
            "tags": []
          },
          "execution_count": 5
        }
      ]
    },
    {
      "cell_type": "code",
      "metadata": {
        "id": "70Mg2WvOlXCC",
        "colab_type": "code",
        "outputId": "1b976648-074b-4466-ddf3-1e4058312647",
        "colab": {
          "base_uri": "https://localhost:8080/",
          "height": 0
        }
      },
      "source": [
        "TestData = loadDataFrame('test.csv')\n",
        "TestData.sample(3)"
      ],
      "execution_count": 6,
      "outputs": [
        {
          "output_type": "stream",
          "text": [
            "Size of DataFrame object: 418 rows & 11 columns.\n"
          ],
          "name": "stdout"
        },
        {
          "output_type": "execute_result",
          "data": {
            "text/html": [
              "<div>\n",
              "<style scoped>\n",
              "    .dataframe tbody tr th:only-of-type {\n",
              "        vertical-align: middle;\n",
              "    }\n",
              "\n",
              "    .dataframe tbody tr th {\n",
              "        vertical-align: top;\n",
              "    }\n",
              "\n",
              "    .dataframe thead th {\n",
              "        text-align: right;\n",
              "    }\n",
              "</style>\n",
              "<table border=\"1\" class=\"dataframe\">\n",
              "  <thead>\n",
              "    <tr style=\"text-align: right;\">\n",
              "      <th></th>\n",
              "      <th>PassengerId</th>\n",
              "      <th>Pclass</th>\n",
              "      <th>Name</th>\n",
              "      <th>Sex</th>\n",
              "      <th>Age</th>\n",
              "      <th>SibSp</th>\n",
              "      <th>Parch</th>\n",
              "      <th>Ticket</th>\n",
              "      <th>Fare</th>\n",
              "      <th>Cabin</th>\n",
              "      <th>Embarked</th>\n",
              "    </tr>\n",
              "  </thead>\n",
              "  <tbody>\n",
              "    <tr>\n",
              "      <th>295</th>\n",
              "      <td>1187</td>\n",
              "      <td>3</td>\n",
              "      <td>Angheloff, Mr. Minko</td>\n",
              "      <td>male</td>\n",
              "      <td>26.0</td>\n",
              "      <td>0</td>\n",
              "      <td>0</td>\n",
              "      <td>349202</td>\n",
              "      <td>7.8958</td>\n",
              "      <td>NaN</td>\n",
              "      <td>S</td>\n",
              "    </tr>\n",
              "    <tr>\n",
              "      <th>98</th>\n",
              "      <td>990</td>\n",
              "      <td>3</td>\n",
              "      <td>Braf, Miss. Elin Ester Maria</td>\n",
              "      <td>female</td>\n",
              "      <td>20.0</td>\n",
              "      <td>0</td>\n",
              "      <td>0</td>\n",
              "      <td>347471</td>\n",
              "      <td>7.8542</td>\n",
              "      <td>NaN</td>\n",
              "      <td>S</td>\n",
              "    </tr>\n",
              "    <tr>\n",
              "      <th>56</th>\n",
              "      <td>948</td>\n",
              "      <td>3</td>\n",
              "      <td>Cor, Mr. Bartol</td>\n",
              "      <td>male</td>\n",
              "      <td>35.0</td>\n",
              "      <td>0</td>\n",
              "      <td>0</td>\n",
              "      <td>349230</td>\n",
              "      <td>7.8958</td>\n",
              "      <td>NaN</td>\n",
              "      <td>S</td>\n",
              "    </tr>\n",
              "  </tbody>\n",
              "</table>\n",
              "</div>"
            ],
            "text/plain": [
              "     PassengerId  Pclass                          Name  ...    Fare  Cabin  Embarked\n",
              "295         1187       3          Angheloff, Mr. Minko  ...  7.8958    NaN         S\n",
              "98           990       3  Braf, Miss. Elin Ester Maria  ...  7.8542    NaN         S\n",
              "56           948       3               Cor, Mr. Bartol  ...  7.8958    NaN         S\n",
              "\n",
              "[3 rows x 11 columns]"
            ]
          },
          "metadata": {
            "tags": []
          },
          "execution_count": 6
        }
      ]
    },
    {
      "cell_type": "markdown",
      "metadata": {
        "id": "HFF2XA2VL1hB",
        "colab_type": "text"
      },
      "source": [
        "## Check the Column Names"
      ]
    },
    {
      "cell_type": "code",
      "metadata": {
        "id": "wQd6ZS5fLycB",
        "colab_type": "code",
        "outputId": "e0d4aca7-4831-4d3c-f800-d19e73b2e33c",
        "colab": {
          "base_uri": "https://localhost:8080/",
          "height": 0
        }
      },
      "source": [
        "TrainData.columns"
      ],
      "execution_count": 7,
      "outputs": [
        {
          "output_type": "execute_result",
          "data": {
            "text/plain": [
              "Index(['PassengerId', 'Survived', 'Pclass', 'Name', 'Sex', 'Age', 'SibSp',\n",
              "       'Parch', 'Ticket', 'Fare', 'Cabin', 'Embarked'],\n",
              "      dtype='object')"
            ]
          },
          "metadata": {
            "tags": []
          },
          "execution_count": 7
        }
      ]
    },
    {
      "cell_type": "code",
      "metadata": {
        "id": "X8tJNBz1MFO1",
        "colab_type": "code",
        "outputId": "23451ff8-8090-496a-dcd7-8b39496904ec",
        "colab": {
          "base_uri": "https://localhost:8080/",
          "height": 0
        }
      },
      "source": [
        "TestData.columns"
      ],
      "execution_count": 8,
      "outputs": [
        {
          "output_type": "execute_result",
          "data": {
            "text/plain": [
              "Index(['PassengerId', 'Pclass', 'Name', 'Sex', 'Age', 'SibSp', 'Parch',\n",
              "       'Ticket', 'Fare', 'Cabin', 'Embarked'],\n",
              "      dtype='object')"
            ]
          },
          "metadata": {
            "tags": []
          },
          "execution_count": 8
        }
      ]
    },
    {
      "cell_type": "markdown",
      "metadata": {
        "id": "udSl_sv7MlaQ",
        "colab_type": "text"
      },
      "source": [
        "## Check Descriptive Statistics"
      ]
    },
    {
      "cell_type": "code",
      "metadata": {
        "id": "tQ6g92EDMNVv",
        "colab_type": "code",
        "outputId": "0ff5a01d-2aee-4c48-90c8-282f3cc8a228",
        "colab": {
          "base_uri": "https://localhost:8080/",
          "height": 0
        }
      },
      "source": [
        "TrainData.describe(include='all').T"
      ],
      "execution_count": 9,
      "outputs": [
        {
          "output_type": "execute_result",
          "data": {
            "text/html": [
              "<div>\n",
              "<style scoped>\n",
              "    .dataframe tbody tr th:only-of-type {\n",
              "        vertical-align: middle;\n",
              "    }\n",
              "\n",
              "    .dataframe tbody tr th {\n",
              "        vertical-align: top;\n",
              "    }\n",
              "\n",
              "    .dataframe thead th {\n",
              "        text-align: right;\n",
              "    }\n",
              "</style>\n",
              "<table border=\"1\" class=\"dataframe\">\n",
              "  <thead>\n",
              "    <tr style=\"text-align: right;\">\n",
              "      <th></th>\n",
              "      <th>count</th>\n",
              "      <th>unique</th>\n",
              "      <th>top</th>\n",
              "      <th>freq</th>\n",
              "      <th>mean</th>\n",
              "      <th>std</th>\n",
              "      <th>min</th>\n",
              "      <th>25%</th>\n",
              "      <th>50%</th>\n",
              "      <th>75%</th>\n",
              "      <th>max</th>\n",
              "    </tr>\n",
              "  </thead>\n",
              "  <tbody>\n",
              "    <tr>\n",
              "      <th>PassengerId</th>\n",
              "      <td>891</td>\n",
              "      <td>NaN</td>\n",
              "      <td>NaN</td>\n",
              "      <td>NaN</td>\n",
              "      <td>446</td>\n",
              "      <td>257.354</td>\n",
              "      <td>1</td>\n",
              "      <td>223.5</td>\n",
              "      <td>446</td>\n",
              "      <td>668.5</td>\n",
              "      <td>891</td>\n",
              "    </tr>\n",
              "    <tr>\n",
              "      <th>Survived</th>\n",
              "      <td>891</td>\n",
              "      <td>NaN</td>\n",
              "      <td>NaN</td>\n",
              "      <td>NaN</td>\n",
              "      <td>0.383838</td>\n",
              "      <td>0.486592</td>\n",
              "      <td>0</td>\n",
              "      <td>0</td>\n",
              "      <td>0</td>\n",
              "      <td>1</td>\n",
              "      <td>1</td>\n",
              "    </tr>\n",
              "    <tr>\n",
              "      <th>Pclass</th>\n",
              "      <td>891</td>\n",
              "      <td>NaN</td>\n",
              "      <td>NaN</td>\n",
              "      <td>NaN</td>\n",
              "      <td>2.30864</td>\n",
              "      <td>0.836071</td>\n",
              "      <td>1</td>\n",
              "      <td>2</td>\n",
              "      <td>3</td>\n",
              "      <td>3</td>\n",
              "      <td>3</td>\n",
              "    </tr>\n",
              "    <tr>\n",
              "      <th>Name</th>\n",
              "      <td>891</td>\n",
              "      <td>891</td>\n",
              "      <td>Pasic, Mr. Jakob</td>\n",
              "      <td>1</td>\n",
              "      <td>NaN</td>\n",
              "      <td>NaN</td>\n",
              "      <td>NaN</td>\n",
              "      <td>NaN</td>\n",
              "      <td>NaN</td>\n",
              "      <td>NaN</td>\n",
              "      <td>NaN</td>\n",
              "    </tr>\n",
              "    <tr>\n",
              "      <th>Sex</th>\n",
              "      <td>891</td>\n",
              "      <td>2</td>\n",
              "      <td>male</td>\n",
              "      <td>577</td>\n",
              "      <td>NaN</td>\n",
              "      <td>NaN</td>\n",
              "      <td>NaN</td>\n",
              "      <td>NaN</td>\n",
              "      <td>NaN</td>\n",
              "      <td>NaN</td>\n",
              "      <td>NaN</td>\n",
              "    </tr>\n",
              "    <tr>\n",
              "      <th>Age</th>\n",
              "      <td>714</td>\n",
              "      <td>NaN</td>\n",
              "      <td>NaN</td>\n",
              "      <td>NaN</td>\n",
              "      <td>29.6991</td>\n",
              "      <td>14.5265</td>\n",
              "      <td>0.42</td>\n",
              "      <td>20.125</td>\n",
              "      <td>28</td>\n",
              "      <td>38</td>\n",
              "      <td>80</td>\n",
              "    </tr>\n",
              "    <tr>\n",
              "      <th>SibSp</th>\n",
              "      <td>891</td>\n",
              "      <td>NaN</td>\n",
              "      <td>NaN</td>\n",
              "      <td>NaN</td>\n",
              "      <td>0.523008</td>\n",
              "      <td>1.10274</td>\n",
              "      <td>0</td>\n",
              "      <td>0</td>\n",
              "      <td>0</td>\n",
              "      <td>1</td>\n",
              "      <td>8</td>\n",
              "    </tr>\n",
              "    <tr>\n",
              "      <th>Parch</th>\n",
              "      <td>891</td>\n",
              "      <td>NaN</td>\n",
              "      <td>NaN</td>\n",
              "      <td>NaN</td>\n",
              "      <td>0.381594</td>\n",
              "      <td>0.806057</td>\n",
              "      <td>0</td>\n",
              "      <td>0</td>\n",
              "      <td>0</td>\n",
              "      <td>0</td>\n",
              "      <td>6</td>\n",
              "    </tr>\n",
              "    <tr>\n",
              "      <th>Ticket</th>\n",
              "      <td>891</td>\n",
              "      <td>681</td>\n",
              "      <td>347082</td>\n",
              "      <td>7</td>\n",
              "      <td>NaN</td>\n",
              "      <td>NaN</td>\n",
              "      <td>NaN</td>\n",
              "      <td>NaN</td>\n",
              "      <td>NaN</td>\n",
              "      <td>NaN</td>\n",
              "      <td>NaN</td>\n",
              "    </tr>\n",
              "    <tr>\n",
              "      <th>Fare</th>\n",
              "      <td>891</td>\n",
              "      <td>NaN</td>\n",
              "      <td>NaN</td>\n",
              "      <td>NaN</td>\n",
              "      <td>32.2042</td>\n",
              "      <td>49.6934</td>\n",
              "      <td>0</td>\n",
              "      <td>7.9104</td>\n",
              "      <td>14.4542</td>\n",
              "      <td>31</td>\n",
              "      <td>512.329</td>\n",
              "    </tr>\n",
              "    <tr>\n",
              "      <th>Cabin</th>\n",
              "      <td>204</td>\n",
              "      <td>147</td>\n",
              "      <td>B96 B98</td>\n",
              "      <td>4</td>\n",
              "      <td>NaN</td>\n",
              "      <td>NaN</td>\n",
              "      <td>NaN</td>\n",
              "      <td>NaN</td>\n",
              "      <td>NaN</td>\n",
              "      <td>NaN</td>\n",
              "      <td>NaN</td>\n",
              "    </tr>\n",
              "    <tr>\n",
              "      <th>Embarked</th>\n",
              "      <td>889</td>\n",
              "      <td>3</td>\n",
              "      <td>S</td>\n",
              "      <td>644</td>\n",
              "      <td>NaN</td>\n",
              "      <td>NaN</td>\n",
              "      <td>NaN</td>\n",
              "      <td>NaN</td>\n",
              "      <td>NaN</td>\n",
              "      <td>NaN</td>\n",
              "      <td>NaN</td>\n",
              "    </tr>\n",
              "  </tbody>\n",
              "</table>\n",
              "</div>"
            ],
            "text/plain": [
              "            count unique               top  ...      50%    75%      max\n",
              "PassengerId   891    NaN               NaN  ...      446  668.5      891\n",
              "Survived      891    NaN               NaN  ...        0      1        1\n",
              "Pclass        891    NaN               NaN  ...        3      3        3\n",
              "Name          891    891  Pasic, Mr. Jakob  ...      NaN    NaN      NaN\n",
              "Sex           891      2              male  ...      NaN    NaN      NaN\n",
              "Age           714    NaN               NaN  ...       28     38       80\n",
              "SibSp         891    NaN               NaN  ...        0      1        8\n",
              "Parch         891    NaN               NaN  ...        0      0        6\n",
              "Ticket        891    681            347082  ...      NaN    NaN      NaN\n",
              "Fare          891    NaN               NaN  ...  14.4542     31  512.329\n",
              "Cabin         204    147           B96 B98  ...      NaN    NaN      NaN\n",
              "Embarked      889      3                 S  ...      NaN    NaN      NaN\n",
              "\n",
              "[12 rows x 11 columns]"
            ]
          },
          "metadata": {
            "tags": []
          },
          "execution_count": 9
        }
      ]
    },
    {
      "cell_type": "markdown",
      "metadata": {
        "id": "bAGfilV1QYhP",
        "colab_type": "text"
      },
      "source": [
        "## Missing Values"
      ]
    },
    {
      "cell_type": "code",
      "metadata": {
        "id": "loDiZnTBWgBz",
        "colab_type": "code",
        "colab": {}
      },
      "source": [
        "def checkMissingValue(data):\n",
        "  '''Outputs the amount of missing values and displays a Missing Value Matrix graph'''\n",
        "  \n",
        "  MissingValues = data.isna().sum()\n",
        "  \n",
        "  for index, value in MissingValues.items():\n",
        "    if value != 0:\n",
        "      print(f'{index}: {value}({round(value/data.shape[0]*100)}%)')\n",
        "  \n",
        "  return missingno.matrix(data, figsize=(18,12))"
      ],
      "execution_count": 0,
      "outputs": []
    },
    {
      "cell_type": "markdown",
      "metadata": {
        "id": "4I-y4UX7Tq9X",
        "colab_type": "text"
      },
      "source": [
        "### Training Set"
      ]
    },
    {
      "cell_type": "code",
      "metadata": {
        "id": "Gqu2tfMgYRlu",
        "colab_type": "code",
        "outputId": "6739c6c6-9129-48d2-ce12-fc4f2902d8e5",
        "colab": {
          "base_uri": "https://localhost:8080/",
          "height": 0
        }
      },
      "source": [
        "checkMissingValue(TrainData)"
      ],
      "execution_count": 11,
      "outputs": [
        {
          "output_type": "stream",
          "text": [
            "Age: 177(20%)\n",
            "Cabin: 687(77%)\n",
            "Embarked: 2(0%)\n"
          ],
          "name": "stdout"
        },
        {
          "output_type": "execute_result",
          "data": {
            "text/plain": [
              "<matplotlib.axes._subplots.AxesSubplot at 0x7fcbb55ac0f0>"
            ]
          },
          "metadata": {
            "tags": []
          },
          "execution_count": 11
        },
        {
          "output_type": "display_data",
          "data": {
            "image/png": "[encoded data removed]",
            "text/plain": [
              "<Figure size 1296x864 with 2 Axes>"
            ]
          },
          "metadata": {
            "tags": []
          }
        }
      ]
    },
    {
      "cell_type": "markdown",
      "metadata": {
        "id": "0Cy56AEUTwOA",
        "colab_type": "text"
      },
      "source": [
        "### Testing Set"
      ]
    },
    {
      "cell_type": "code",
      "metadata": {
        "id": "Vw3rYhVFUC22",
        "colab_type": "code",
        "outputId": "6ef23cd7-fe42-42a4-b9bd-f2fee9d0aa52",
        "colab": {
          "base_uri": "https://localhost:8080/",
          "height": 0
        }
      },
      "source": [
        "checkMissingValue(TestData)"
      ],
      "execution_count": 12,
      "outputs": [
        {
          "output_type": "stream",
          "text": [
            "Age: 86(21%)\n",
            "Fare: 1(0%)\n",
            "Cabin: 327(78%)\n"
          ],
          "name": "stdout"
        },
        {
          "output_type": "execute_result",
          "data": {
            "text/plain": [
              "<matplotlib.axes._subplots.AxesSubplot at 0x7fcbb1049978>"
            ]
          },
          "metadata": {
            "tags": []
          },
          "execution_count": 12
        },
        {
          "output_type": "display_data",
          "data": {
            "image/png": "[encoded data removed]",
            "text/plain": [
              "<Figure size 1296x864 with 2 Axes>"
            ]
          },
          "metadata": {
            "tags": []
          }
        }
      ]
    },
    {
      "cell_type": "markdown",
      "metadata": {
        "id": "Pv0EE9W9TJuU",
        "colab_type": "text"
      },
      "source": [
        "### Handling Missing Values"
      ]
    },
    {
      "cell_type": "markdown",
      "metadata": {
        "id": "YwE91CZ4TPVG",
        "colab_type": "text"
      },
      "source": [
        "## Checking the Data Types"
      ]
    },
    {
      "cell_type": "code",
      "metadata": {
        "id": "IzMeQGVoTZu9",
        "colab_type": "code",
        "outputId": "8d40bba6-21c9-4c11-99cb-6280811ba1e3",
        "colab": {
          "base_uri": "https://localhost:8080/",
          "height": 0
        }
      },
      "source": [
        "TrainData.dtypes"
      ],
      "execution_count": 13,
      "outputs": [
        {
          "output_type": "execute_result",
          "data": {
            "text/plain": [
              "PassengerId      int64\n",
              "Survived         int64\n",
              "Pclass           int64\n",
              "Name            object\n",
              "Sex             object\n",
              "Age            float64\n",
              "SibSp            int64\n",
              "Parch            int64\n",
              "Ticket          object\n",
              "Fare           float64\n",
              "Cabin           object\n",
              "Embarked        object\n",
              "dtype: object"
            ]
          },
          "metadata": {
            "tags": []
          },
          "execution_count": 13
        }
      ]
    },
    {
      "cell_type": "code",
      "metadata": {
        "id": "kpunvXh-TeK3",
        "colab_type": "code",
        "outputId": "0a068b8a-a745-4a28-dda3-78bbdfe70cfb",
        "colab": {
          "base_uri": "https://localhost:8080/",
          "height": 0
        }
      },
      "source": [
        "TestData.dtypes"
      ],
      "execution_count": 14,
      "outputs": [
        {
          "output_type": "execute_result",
          "data": {
            "text/plain": [
              "PassengerId      int64\n",
              "Pclass           int64\n",
              "Name            object\n",
              "Sex             object\n",
              "Age            float64\n",
              "SibSp            int64\n",
              "Parch            int64\n",
              "Ticket          object\n",
              "Fare           float64\n",
              "Cabin           object\n",
              "Embarked        object\n",
              "dtype: object"
            ]
          },
          "metadata": {
            "tags": []
          },
          "execution_count": 14
        }
      ]
    },
    {
      "cell_type": "markdown",
      "metadata": {
        "id": "PFUZ9kBdm_JG",
        "colab_type": "text"
      },
      "source": [
        "# Exploratory Data Analysis\n",
        "\n",
        "- [Introduction to Exploratory Data Analysis (EDA) | Code Heroku](https://medium.com/code-heroku/introduction-to-exploratory-data-analysis-eda-c0257f888676)"
      ]
    },
    {
      "cell_type": "code",
      "metadata": {
        "id": "d_kX9cnycXPn",
        "colab_type": "code",
        "outputId": "24698d7c-1f32-4d7b-c7ee-77df0953585e",
        "colab": {
          "base_uri": "https://localhost:8080/",
          "height": 81
        }
      },
      "source": [
        "TrainData.head(1)"
      ],
      "execution_count": 15,
      "outputs": [
        {
          "output_type": "execute_result",
          "data": {
            "text/html": [
              "<div>\n",
              "<style scoped>\n",
              "    .dataframe tbody tr th:only-of-type {\n",
              "        vertical-align: middle;\n",
              "    }\n",
              "\n",
              "    .dataframe tbody tr th {\n",
              "        vertical-align: top;\n",
              "    }\n",
              "\n",
              "    .dataframe thead th {\n",
              "        text-align: right;\n",
              "    }\n",
              "</style>\n",
              "<table border=\"1\" class=\"dataframe\">\n",
              "  <thead>\n",
              "    <tr style=\"text-align: right;\">\n",
              "      <th></th>\n",
              "      <th>PassengerId</th>\n",
              "      <th>Survived</th>\n",
              "      <th>Pclass</th>\n",
              "      <th>Name</th>\n",
              "      <th>Sex</th>\n",
              "      <th>Age</th>\n",
              "      <th>SibSp</th>\n",
              "      <th>Parch</th>\n",
              "      <th>Ticket</th>\n",
              "      <th>Fare</th>\n",
              "      <th>Cabin</th>\n",
              "      <th>Embarked</th>\n",
              "    </tr>\n",
              "  </thead>\n",
              "  <tbody>\n",
              "    <tr>\n",
              "      <th>0</th>\n",
              "      <td>1</td>\n",
              "      <td>0</td>\n",
              "      <td>3</td>\n",
              "      <td>Braund, Mr. Owen Harris</td>\n",
              "      <td>male</td>\n",
              "      <td>22.0</td>\n",
              "      <td>1</td>\n",
              "      <td>0</td>\n",
              "      <td>A/5 21171</td>\n",
              "      <td>7.25</td>\n",
              "      <td>NaN</td>\n",
              "      <td>S</td>\n",
              "    </tr>\n",
              "  </tbody>\n",
              "</table>\n",
              "</div>"
            ],
            "text/plain": [
              "   PassengerId  Survived  Pclass  ...  Fare Cabin  Embarked\n",
              "0            1         0       3  ...  7.25   NaN         S\n",
              "\n",
              "[1 rows x 12 columns]"
            ]
          },
          "metadata": {
            "tags": []
          },
          "execution_count": 15
        }
      ]
    },
    {
      "cell_type": "code",
      "metadata": {
        "id": "KmmboK9UfcF5",
        "colab_type": "code",
        "outputId": "e07b28df-05c7-4b12-d186-69cad89bed5b",
        "colab": {
          "base_uri": "https://localhost:8080/",
          "height": 303
        }
      },
      "source": [
        "# Couting the number of people who, unfortunately didn't survive\n",
        "sns.countplot(x='Survived', data=TrainData)"
      ],
      "execution_count": 16,
      "outputs": [
        {
          "output_type": "execute_result",
          "data": {
            "text/plain": [
              "<matplotlib.axes._subplots.AxesSubplot at 0x7fcbb0fcf240>"
            ]
          },
          "metadata": {
            "tags": []
          },
          "execution_count": 16
        },
        {
          "output_type": "display_data",
          "data": {
            "image/png": "[encoded data removed]",
            "text/plain": [
              "<Figure size 432x288 with 1 Axes>"
            ]
          },
          "metadata": {
            "tags": []
          }
        }
      ]
    },
    {
      "cell_type": "code",
      "metadata": {
        "id": "zgdvTSW-msFW",
        "colab_type": "code",
        "outputId": "ef6f9479-79e1-4d57-e4bf-2d9b9f37d9bc",
        "colab": {
          "base_uri": "https://localhost:8080/",
          "height": 303
        }
      },
      "source": [
        "# Checking the number of survivors according to gender\n",
        "sns.barplot(x='Sex', y='Survived', data=TrainData)"
      ],
      "execution_count": 17,
      "outputs": [
        {
          "output_type": "execute_result",
          "data": {
            "text/plain": [
              "<matplotlib.axes._subplots.AxesSubplot at 0x7fcbb0f3cdd8>"
            ]
          },
          "metadata": {
            "tags": []
          },
          "execution_count": 17
        },
        {
          "output_type": "display_data",
          "data": {
            "image/png": "[encoded data removed]",
            "text/plain": [
              "<Figure size 432x288 with 1 Axes>"
            ]
          },
          "metadata": {
            "tags": []
          }
        }
      ]
    },
    {
      "cell_type": "code",
      "metadata": {
        "id": "CQcRER8eo9Xp",
        "colab_type": "code",
        "outputId": "194fc37c-45cd-4c26-83e9-1104075565d2",
        "colab": {
          "base_uri": "https://localhost:8080/",
          "height": 303
        }
      },
      "source": [
        "# Checking the number of survivors according to the Class\n",
        "sns.barplot(x='Pclass', y='Survived', data=TrainData)"
      ],
      "execution_count": 18,
      "outputs": [
        {
          "output_type": "execute_result",
          "data": {
            "text/plain": [
              "<matplotlib.axes._subplots.AxesSubplot at 0x7fcbb0efa748>"
            ]
          },
          "metadata": {
            "tags": []
          },
          "execution_count": 18
        },
        {
          "output_type": "display_data",
          "data": {
            "image/png": "[encoded data removed]",
            "text/plain": [
              "<Figure size 432x288 with 1 Axes>"
            ]
          },
          "metadata": {
            "tags": []
          }
        }
      ]
    },
    {
      "cell_type": "code",
      "metadata": {
        "id": "iruLEBbFpU9t",
        "colab_type": "code",
        "outputId": "ccb975d6-3531-4e08-e87b-01c2e77ed871",
        "colab": {
          "base_uri": "https://localhost:8080/",
          "height": 303
        }
      },
      "source": [
        "# Checking number of survivors according to the origin of embarkation\n",
        "sns.barplot(x='Embarked', y='Survived', data=TrainData)"
      ],
      "execution_count": 19,
      "outputs": [
        {
          "output_type": "execute_result",
          "data": {
            "text/plain": [
              "<matplotlib.axes._subplots.AxesSubplot at 0x7fcbb0e7fd68>"
            ]
          },
          "metadata": {
            "tags": []
          },
          "execution_count": 19
        },
        {
          "output_type": "display_data",
          "data": {
            "image/png": "[encoded data removed]",
            "text/plain": [
              "<Figure size 432x288 with 1 Axes>"
            ]
          },
          "metadata": {
            "tags": []
          }
        }
      ]
    },
    {
      "cell_type": "code",
      "metadata": {
        "id": "AHI6cpMWY2ZJ",
        "colab_type": "code",
        "colab": {
          "base_uri": "https://localhost:8080/",
          "height": 303
        },
        "outputId": "d4fb07fe-92ce-4231-dce9-ead7b9cdc803"
      },
      "source": [
        "sns.boxplot(x='Survived', y='Age', data=TrainData)"
      ],
      "execution_count": 22,
      "outputs": [
        {
          "output_type": "execute_result",
          "data": {
            "text/plain": [
              "<matplotlib.axes._subplots.AxesSubplot at 0x7fcbb06d9518>"
            ]
          },
          "metadata": {
            "tags": []
          },
          "execution_count": 22
        },
        {
          "output_type": "display_data",
          "data": {
            "image/png": "[encoded data removed]",
            "text/plain": [
              "<Figure size 432x288 with 1 Axes>"
            ]
          },
          "metadata": {
            "tags": []
          }
        }
      ]
    },
    {
      "cell_type": "markdown",
      "metadata": {
        "id": "KklhhvtAGpBn",
        "colab_type": "text"
      },
      "source": [
        "# TODO\n",
        "\n",
        "- ~Create dynamic function using PyDrive to pull in data from GDrive folders.~ *Not worth*\n",
        "- Handle missing values\n",
        "- Simple visualizations\n",
        "- Visualize continuous variables like Age, Fare, ect among other variables."
      ]
    }
  ]
}