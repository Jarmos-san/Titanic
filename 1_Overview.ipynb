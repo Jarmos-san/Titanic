{
  "nbformat": 4,
  "nbformat_minor": 0,
  "metadata": {
    "colab": {
      "name": "1_Overview.ipynb",
      "provenance": [],
      "authorship_tag": "ABX9TyNUf9ipaoFU3m0CY7w/saw8",
      "include_colab_link": true
    },
    "kernelspec": {
      "name": "python3",
      "display_name": "Python 3"
    }
  },
  "cells": [
    {
      "cell_type": "markdown",
      "metadata": {
        "id": "view-in-github",
        "colab_type": "text"
      },
      "source": [
        "<a href=\"https://colab.research.google.com/github/Jarmos-san/Titanic/blob/master/1_Overview.ipynb\" target=\"_parent\"><img src=\"https://colab.research.google.com/assets/colab-badge.svg\" alt=\"Open In Colab\"/></a>"
      ]
    },
    {
      "cell_type": "markdown",
      "metadata": {
        "id": "y_KC22ihSKiH",
        "colab_type": "text"
      },
      "source": [
        "# **[Titanic: Machine Learning from Disaster](https://www.kaggle.com/c/titanic)**\n",
        "---\n",
        "\n",
        "## **Table of Content**\n",
        "\n",
        "- [Competition Description](https://render.githubusercontent.com/view/ipynb?commit=17c5271116e3f9b1b56059a4cc4e05e30efeafd9&enc_url=68747470733a2f2f7261772e67697468756275736572636f6e74656e742e636f6d2f4a61726d6f732d73616e2f546974616e69632f313763353237313131366533663962316235363035396134636334653035653330656665616664392f546974616e6963436f6d7065746974696f6e2e6970796e62&nwo=Jarmos-san%2FTitanic&path=TitanicCompetition.ipynb&repository_id=235324548&repository_type=Repository#The-Challenge)\n",
        "- [Preparing the Notebook](https://render.githubusercontent.com/view/ipynb?commit=17c5271116e3f9b1b56059a4cc4e05e30efeafd9&enc_url=68747470733a2f2f7261772e67697468756275736572636f6e74656e742e636f6d2f4a61726d6f732d73616e2f546974616e69632f313763353237313131366533663962316235363035396134636334653035653330656665616664392f546974616e6963436f6d7065746974696f6e2e6970796e62&nwo=Jarmos-san%2FTitanic&path=TitanicCompetition.ipynb&repository_id=235324548&repository_type=Repository#Preparing-the-Notebook)\n",
        "- [Importing Necessary Libraries](https://render.githubusercontent.com/view/ipynb?commit=17c5271116e3f9b1b56059a4cc4e05e30efeafd9&enc_url=68747470733a2f2f7261772e67697468756275736572636f6e74656e742e636f6d2f4a61726d6f732d73616e2f546974616e69632f313763353237313131366533663962316235363035396134636334653035653330656665616664392f546974616e6963436f6d7065746974696f6e2e6970796e62&nwo=Jarmos-san%2FTitanic&path=TitanicCompetition.ipynb&repository_id=235324548&repository_type=Repository#Importing-Necessary-Libraries)\n",
        "- [Dataset Overview](https://render.githubusercontent.com/view/ipynb?commit=17c5271116e3f9b1b56059a4cc4e05e30efeafd9&enc_url=68747470733a2f2f7261772e67697468756275736572636f6e74656e742e636f6d2f4a61726d6f732d73616e2f546974616e69632f313763353237313131366533663962316235363035396134636334653035653330656665616664392f546974616e6963436f6d7065746974696f6e2e6970796e62&nwo=Jarmos-san%2FTitanic&path=TitanicCompetition.ipynb&repository_id=235324548&repository_type=Repository#Dataset-Overview)\n",
        "\n",
        "## **Description**\n",
        "\n",
        "####**The Challenge**\n",
        "\n",
        "The sinking of the Titanic is one of the most infamous shipwrecks in history.\n",
        "\n",
        "On April 15, 1912, during her maiden voyage, the widely considered “unsinkable” RMS Titanic sank after colliding with an iceberg. Unfortunately, there weren’t enough lifeboats for everyone onboard, resulting in the death of 1502 out of 2224 passengers and crew.\n",
        "\n",
        "While there was some element of luck involved in surviving, it seems some groups of people were more likely to survive than others.\n",
        "\n",
        "*In this challenge, we ask you to build a predictive model that answers the question: “**what sorts of people were more likely to survive?**” using passenger data (ie name, age, gender, socio-economic class, etc).*\n",
        "\n",
        "#### **What Data Will I Use in This Competition?**\n",
        "\n",
        "In this competition, you’ll gain access to two similar datasets that include passenger information like name, age, gender, socio-economic class, etc. One dataset is titled `train.csv` and the other is titled `test.csv`.\n",
        "\n",
        "Train.csv will contain the details of a subset of the passengers on board (891 to be exact) and importantly, will reveal whether they survived or not, also known as the “ground truth”.\n",
        "\n",
        "The `test.csv` dataset contains similar information but does not disclose the “ground truth” for each passenger. It’s your job to predict these outcomes.\n",
        "\n",
        "Using the patterns you find in the train.csv data, predict whether the other 418 passengers on board (found in test.csv) survived.\n",
        "\n",
        "#### **Evaluation**\n",
        "\n",
        "1. **Goal**:\n",
        "\n",
        "  It is your job to predict if a passenger survived the sinking of the Titanic or not.\n",
        "  For each in the test set, you must predict a 0 or 1 value for the variable.\n",
        "2. **Metric**:\n",
        "\n",
        "  Your score is the percentage of passengers you correctly predict. This is known as [accuracy](https://en.wikipedia.org/wiki/Accuracy_and_precision#In_binary_classification).\n",
        "3. **Submission File Format**:\n",
        "\n",
        "  You should submit a csv file with exactly 418 entries plus a header row. Your submission will show an error if you have extra columns (beyond PassengerId and Survived) or rows.\n",
        "\n",
        "  The file should have exactly 2 columns:\n",
        "  - PassengerId (sorted in any order)\n",
        "  - Survived (contains your binary predictions: `1` for survived, `0` for deceased)\n",
        "    \n",
        "    ```\n",
        "    PassengerId,Survived\n",
        "    892,0\n",
        "    893,1\n",
        "    894,0\n",
        "    Etc.\n",
        "    ```\n",
        "\n",
        "  You can download an example submission file (gender_submission.csv) on the Data page.\n",
        "\n",
        "## **Data** \n",
        "\n",
        "#### **Overview**\n",
        "\n",
        "The data has been split into two groups:\n",
        "- training set (`train.csv`)\n",
        "- test set (`test.csv`)\n",
        "\n",
        "The **training set** should be used to build your machine learning models. For the training set, we provide the outcome (also known as the “ground truth”) for each passenger. Your model will be based on “features” like `passengers’` `gender` and `class`. You can also use feature engineering to create new features.\n",
        "\n",
        "The **test set** should be used to see how well your model performs on unseen data. For the test set, we do not provide the ground truth for each passenger. It is your job to predict these outcomes. For each passenger in the test set, use the model you trained to predict whether or not they survived the sinking of the Titanic.\n",
        "\n",
        "We also include `gender_submission.csv`, a set of predictions that assume all and only female passengers survive, as an example of what a submission file should look like.\n",
        "\n",
        "#### **Data Dictionary**\n",
        "\n",
        "| Variable |          Definition          |                      Key                      |\n",
        "|----------|------------------------------|-----------------------------------------------|\n",
        "| survival | Survival                     | `0`=No,`1`=Yes                                |\n",
        "| pclass   | Ticket Class                 | `1`=1st,`2`=2nd,`3`=3rd                       |\n",
        "| sex      | Gender                       |                                               |\n",
        "| Age      | Age in Years                 |                                               |\n",
        "| sibsp    | # of Siblings/Spouses aboard |                                               |\n",
        "| parch    | # of parents/Children aboard |                                               |\n",
        "| ticket   | Ticket Number                |                                               |\n",
        "| fare     | Ticket Fare                  |                                               |\n",
        "| cabin    | Cabin Number                 |                                               |\n",
        "| embarked | Port of Embarkation          | `C`=Cherboug,`Q`=Queenstown,`S`=Southampton   |\n",
        "\n",
        "#### **Variable Notes**\n",
        "\n",
        "- `pclass`: A proxy for socio-economic status (SES)\n",
        "  \n",
        "  - 1st = Upper\n",
        "  - 2nd = Middle\n",
        "  - 3rd = Lower\n",
        "\n",
        "- `age`: Age is fractional if less than 1. If the age is estimated, is it in the form of xx.5\n",
        "\n",
        "- `sibsp`: The dataset defines family relations in this way...\n",
        "  - `Sibling` = brother, sister, stepbrother, stepsister\n",
        "  - `Spouse` = husband, wife (mistresses and fiancés were ignored)\n",
        "\n",
        "- `parch`: The dataset defines family relations in this way...\n",
        "  - Parent = mother, father\n",
        "  - Child = daughter, son, stepdaughter, stepson\n",
        "  - Some children travelled only with a nanny, therefore parch=0 for them."
      ]
    },
    {
      "cell_type": "markdown",
      "metadata": {
        "id": "tBnfk150RbAb",
        "colab_type": "text"
      },
      "source": [
        "## Preparing the Notebook"
      ]
    },
    {
      "cell_type": "code",
      "metadata": {
        "id": "dft9_ZY3QLwc",
        "colab_type": "code",
        "outputId": "57be3f79-49a4-4758-ce7c-d4c4fc6516c3",
        "colab": {
          "base_uri": "https://localhost:8080/",
          "height": 293
        }
      },
      "source": [
        "# Mount GDrive to current Colab instance\n",
        "from google.colab import drive\n",
        "drive.mount('/content/gdrive', force_remount=True)\n",
        "print()\n",
        "\n",
        "# Setup Kaggle creds to the Colab Instance\n",
        "import os\n",
        "os.environ['KAGGLE_CONFIG_DIR']='/content/gdrive/My Drive/Kaggle'\n",
        "\n",
        "# Changing directory to download competition data to the ../Titanic/Data folder\n",
        "%cd /content/gdrive/My Drive/Titanic/Data\n",
        "\n",
        "# Downloading the required data\n",
        "!kaggle competitions download -c titanic\n",
        "\n",
        "# Changing back to working directory\n",
        "print()\n",
        "%cd /content/gdrive/My Drive/Titanic\n",
        "\n",
        "print()\n",
        "!pip install pandas --user --upgrade"
      ],
      "execution_count": 0,
      "outputs": [
        {
          "output_type": "stream",
          "text": [
            "Mounted at /content/gdrive\n",
            "\n",
            "/content/gdrive/My Drive/Titanic/Data\n",
            "Warning: Looks like you're using an outdated API Version, please consider updating (server 1.5.6 / client 1.5.4)\n",
            "train.csv: Skipping, found more recently modified local copy (use --force to force download)\n",
            "test.csv: Skipping, found more recently modified local copy (use --force to force download)\n",
            "gender_submission.csv: Skipping, found more recently modified local copy (use --force to force download)\n",
            "\n",
            "/content/gdrive/My Drive/Titanic\n",
            "\n",
            "Requirement already up-to-date: pandas in /root/.local/lib/python3.6/site-packages (1.0.1)\n",
            "Requirement already satisfied, skipping upgrade: pytz>=2017.2 in /usr/local/lib/python3.6/dist-packages (from pandas) (2018.9)\n",
            "Requirement already satisfied, skipping upgrade: numpy>=1.13.3 in /usr/local/lib/python3.6/dist-packages (from pandas) (1.17.5)\n",
            "Requirement already satisfied, skipping upgrade: python-dateutil>=2.6.1 in /usr/local/lib/python3.6/dist-packages (from pandas) (2.6.1)\n",
            "Requirement already satisfied, skipping upgrade: six>=1.5 in /usr/local/lib/python3.6/dist-packages (from python-dateutil>=2.6.1->pandas) (1.12.0)\n"
          ],
          "name": "stdout"
        }
      ]
    },
    {
      "cell_type": "code",
      "metadata": {
        "id": "lKUSux1vV1AW",
        "colab_type": "code",
        "outputId": "9f792c4b-26c9-4790-a99f-56aef4ca6105",
        "colab": {
          "base_uri": "https://localhost:8080/",
          "height": 90
        }
      },
      "source": [
        "# Importing the required libraries\n",
        "import pandas as pd\n",
        "import seaborn as sns\n",
        "import numpy as np\n",
        "import matplotlib.pyplot as plt\n",
        "import missingno\n",
        "\n",
        "# import sklearn\n",
        "# from sklearn.impute import SimpleImputer\n",
        "\n",
        "# Checking library versions\n",
        "print(f'Pandas v{pd.__version__}')\n",
        "print(f'Seaborn v{sns.__version__}')\n",
        "print(f'Missingno v{missingno.__version__}')\n",
        "print(f'Numpy v{np.__version__}')\n",
        "# print(f'Sklearn v{sklearn.__version__}')\n",
        "\n",
        "%matplotlib inline\n",
        "sns.set(style='darkgrid')"
      ],
      "execution_count": 0,
      "outputs": [
        {
          "output_type": "stream",
          "text": [
            "Pandas v1.0.1\n",
            "Seaborn v0.10.0\n",
            "Missingno v0.4.2\n",
            "Numpy v1.17.5\n"
          ],
          "name": "stdout"
        }
      ]
    },
    {
      "cell_type": "markdown",
      "metadata": {
        "id": "-QTJ4QJjUPOM",
        "colab_type": "text"
      },
      "source": [
        "# Dataset Overview"
      ]
    },
    {
      "cell_type": "code",
      "metadata": {
        "id": "OA203DFhWqjv",
        "colab_type": "code",
        "outputId": "aee8e4da-1fba-4693-f156-ae983412ec97",
        "colab": {
          "base_uri": "https://localhost:8080/",
          "height": 35
        }
      },
      "source": [
        "# Checking the contents of ../Titanic/Data\n",
        "%ls /content/gdrive/My\\ Drive/Titanic/Data"
      ],
      "execution_count": 0,
      "outputs": [
        {
          "output_type": "stream",
          "text": [
            "gender_submission.csv  test.csv  train.csv\n"
          ],
          "name": "stdout"
        }
      ]
    },
    {
      "cell_type": "code",
      "metadata": {
        "id": "5erf7XpQS8sa",
        "colab_type": "code",
        "colab": {}
      },
      "source": [
        "# Path to the competition data files\n",
        "PATH = '/content/gdrive/My Drive/Titanic/Data/'\n",
        "\n",
        "# Loads the train and test datasets to a DataFrame\n",
        "TrainDF = pd.read_csv(f'{PATH}train.csv', index_col='PassengerId')\n",
        "TestDF = pd.read_csv(f'{PATH}test.csv', index_col='PassengerId')\n",
        "\n",
        "# Makes a copy of the DataFrame for processing\n",
        "TrainData= TrainDF.copy()\n",
        "TestData= TestDF.copy()"
      ],
      "execution_count": 0,
      "outputs": []
    },
    {
      "cell_type": "code",
      "metadata": {
        "id": "6XUoPm0Lcc-u",
        "colab_type": "code",
        "outputId": "742fcdfe-061f-4a2c-c23c-4d19a91bdede",
        "colab": {
          "base_uri": "https://localhost:8080/",
          "height": 175
        }
      },
      "source": [
        "# Checking the first 3 rows of the Training Data\n",
        "TrainData.head(3)"
      ],
      "execution_count": 0,
      "outputs": [
        {
          "output_type": "execute_result",
          "data": {
            "text/html": [
              "<div>\n",
              "<style scoped>\n",
              "    .dataframe tbody tr th:only-of-type {\n",
              "        vertical-align: middle;\n",
              "    }\n",
              "\n",
              "    .dataframe tbody tr th {\n",
              "        vertical-align: top;\n",
              "    }\n",
              "\n",
              "    .dataframe thead th {\n",
              "        text-align: right;\n",
              "    }\n",
              "</style>\n",
              "<table border=\"1\" class=\"dataframe\">\n",
              "  <thead>\n",
              "    <tr style=\"text-align: right;\">\n",
              "      <th></th>\n",
              "      <th>Survived</th>\n",
              "      <th>Pclass</th>\n",
              "      <th>Name</th>\n",
              "      <th>Sex</th>\n",
              "      <th>Age</th>\n",
              "      <th>SibSp</th>\n",
              "      <th>Parch</th>\n",
              "      <th>Ticket</th>\n",
              "      <th>Fare</th>\n",
              "      <th>Cabin</th>\n",
              "      <th>Embarked</th>\n",
              "    </tr>\n",
              "    <tr>\n",
              "      <th>PassengerId</th>\n",
              "      <th></th>\n",
              "      <th></th>\n",
              "      <th></th>\n",
              "      <th></th>\n",
              "      <th></th>\n",
              "      <th></th>\n",
              "      <th></th>\n",
              "      <th></th>\n",
              "      <th></th>\n",
              "      <th></th>\n",
              "      <th></th>\n",
              "    </tr>\n",
              "  </thead>\n",
              "  <tbody>\n",
              "    <tr>\n",
              "      <th>1</th>\n",
              "      <td>0</td>\n",
              "      <td>3</td>\n",
              "      <td>Braund, Mr. Owen Harris</td>\n",
              "      <td>male</td>\n",
              "      <td>22.0</td>\n",
              "      <td>1</td>\n",
              "      <td>0</td>\n",
              "      <td>A/5 21171</td>\n",
              "      <td>7.2500</td>\n",
              "      <td>NaN</td>\n",
              "      <td>S</td>\n",
              "    </tr>\n",
              "    <tr>\n",
              "      <th>2</th>\n",
              "      <td>1</td>\n",
              "      <td>1</td>\n",
              "      <td>Cumings, Mrs. John Bradley (Florence Briggs Th...</td>\n",
              "      <td>female</td>\n",
              "      <td>38.0</td>\n",
              "      <td>1</td>\n",
              "      <td>0</td>\n",
              "      <td>PC 17599</td>\n",
              "      <td>71.2833</td>\n",
              "      <td>C85</td>\n",
              "      <td>C</td>\n",
              "    </tr>\n",
              "    <tr>\n",
              "      <th>3</th>\n",
              "      <td>1</td>\n",
              "      <td>3</td>\n",
              "      <td>Heikkinen, Miss. Laina</td>\n",
              "      <td>female</td>\n",
              "      <td>26.0</td>\n",
              "      <td>0</td>\n",
              "      <td>0</td>\n",
              "      <td>STON/O2. 3101282</td>\n",
              "      <td>7.9250</td>\n",
              "      <td>NaN</td>\n",
              "      <td>S</td>\n",
              "    </tr>\n",
              "  </tbody>\n",
              "</table>\n",
              "</div>"
            ],
            "text/plain": [
              "             Survived  Pclass  ... Cabin Embarked\n",
              "PassengerId                    ...               \n",
              "1                   0       3  ...   NaN        S\n",
              "2                   1       1  ...   C85        C\n",
              "3                   1       3  ...   NaN        S\n",
              "\n",
              "[3 rows x 11 columns]"
            ]
          },
          "metadata": {
            "tags": []
          },
          "execution_count": 17
        }
      ]
    },
    {
      "cell_type": "code",
      "metadata": {
        "id": "3csACevmG3D_",
        "colab_type": "code",
        "outputId": "843a2efd-eeb5-4370-c04e-528783bf0217",
        "colab": {
          "base_uri": "https://localhost:8080/",
          "height": 175
        }
      },
      "source": [
        "# Checking the last 3 rows of the Training Data\n",
        "TrainData.tail(3)"
      ],
      "execution_count": 0,
      "outputs": [
        {
          "output_type": "execute_result",
          "data": {
            "text/html": [
              "<div>\n",
              "<style scoped>\n",
              "    .dataframe tbody tr th:only-of-type {\n",
              "        vertical-align: middle;\n",
              "    }\n",
              "\n",
              "    .dataframe tbody tr th {\n",
              "        vertical-align: top;\n",
              "    }\n",
              "\n",
              "    .dataframe thead th {\n",
              "        text-align: right;\n",
              "    }\n",
              "</style>\n",
              "<table border=\"1\" class=\"dataframe\">\n",
              "  <thead>\n",
              "    <tr style=\"text-align: right;\">\n",
              "      <th></th>\n",
              "      <th>Survived</th>\n",
              "      <th>Pclass</th>\n",
              "      <th>Name</th>\n",
              "      <th>Sex</th>\n",
              "      <th>Age</th>\n",
              "      <th>SibSp</th>\n",
              "      <th>Parch</th>\n",
              "      <th>Ticket</th>\n",
              "      <th>Fare</th>\n",
              "      <th>Cabin</th>\n",
              "      <th>Embarked</th>\n",
              "    </tr>\n",
              "    <tr>\n",
              "      <th>PassengerId</th>\n",
              "      <th></th>\n",
              "      <th></th>\n",
              "      <th></th>\n",
              "      <th></th>\n",
              "      <th></th>\n",
              "      <th></th>\n",
              "      <th></th>\n",
              "      <th></th>\n",
              "      <th></th>\n",
              "      <th></th>\n",
              "      <th></th>\n",
              "    </tr>\n",
              "  </thead>\n",
              "  <tbody>\n",
              "    <tr>\n",
              "      <th>889</th>\n",
              "      <td>0</td>\n",
              "      <td>3</td>\n",
              "      <td>Johnston, Miss. Catherine Helen \"Carrie\"</td>\n",
              "      <td>female</td>\n",
              "      <td>NaN</td>\n",
              "      <td>1</td>\n",
              "      <td>2</td>\n",
              "      <td>W./C. 6607</td>\n",
              "      <td>23.45</td>\n",
              "      <td>NaN</td>\n",
              "      <td>S</td>\n",
              "    </tr>\n",
              "    <tr>\n",
              "      <th>890</th>\n",
              "      <td>1</td>\n",
              "      <td>1</td>\n",
              "      <td>Behr, Mr. Karl Howell</td>\n",
              "      <td>male</td>\n",
              "      <td>26.0</td>\n",
              "      <td>0</td>\n",
              "      <td>0</td>\n",
              "      <td>111369</td>\n",
              "      <td>30.00</td>\n",
              "      <td>C148</td>\n",
              "      <td>C</td>\n",
              "    </tr>\n",
              "    <tr>\n",
              "      <th>891</th>\n",
              "      <td>0</td>\n",
              "      <td>3</td>\n",
              "      <td>Dooley, Mr. Patrick</td>\n",
              "      <td>male</td>\n",
              "      <td>32.0</td>\n",
              "      <td>0</td>\n",
              "      <td>0</td>\n",
              "      <td>370376</td>\n",
              "      <td>7.75</td>\n",
              "      <td>NaN</td>\n",
              "      <td>Q</td>\n",
              "    </tr>\n",
              "  </tbody>\n",
              "</table>\n",
              "</div>"
            ],
            "text/plain": [
              "             Survived  Pclass  ... Cabin Embarked\n",
              "PassengerId                    ...               \n",
              "889                 0       3  ...   NaN        S\n",
              "890                 1       1  ...  C148        C\n",
              "891                 0       3  ...   NaN        Q\n",
              "\n",
              "[3 rows x 11 columns]"
            ]
          },
          "metadata": {
            "tags": []
          },
          "execution_count": 23
        }
      ]
    },
    {
      "cell_type": "code",
      "metadata": {
        "id": "d6S-MVt4F3eZ",
        "colab_type": "code",
        "outputId": "4f76a4b2-b8d8-442f-8c8b-9b489604edda",
        "colab": {
          "base_uri": "https://localhost:8080/",
          "height": 175
        }
      },
      "source": [
        "# Checking the first 3 rows of the Testing Data\n",
        "TestData.head(3)"
      ],
      "execution_count": 0,
      "outputs": [
        {
          "output_type": "execute_result",
          "data": {
            "text/html": [
              "<div>\n",
              "<style scoped>\n",
              "    .dataframe tbody tr th:only-of-type {\n",
              "        vertical-align: middle;\n",
              "    }\n",
              "\n",
              "    .dataframe tbody tr th {\n",
              "        vertical-align: top;\n",
              "    }\n",
              "\n",
              "    .dataframe thead th {\n",
              "        text-align: right;\n",
              "    }\n",
              "</style>\n",
              "<table border=\"1\" class=\"dataframe\">\n",
              "  <thead>\n",
              "    <tr style=\"text-align: right;\">\n",
              "      <th></th>\n",
              "      <th>Pclass</th>\n",
              "      <th>Name</th>\n",
              "      <th>Sex</th>\n",
              "      <th>Age</th>\n",
              "      <th>SibSp</th>\n",
              "      <th>Parch</th>\n",
              "      <th>Ticket</th>\n",
              "      <th>Fare</th>\n",
              "      <th>Cabin</th>\n",
              "      <th>Embarked</th>\n",
              "    </tr>\n",
              "    <tr>\n",
              "      <th>PassengerId</th>\n",
              "      <th></th>\n",
              "      <th></th>\n",
              "      <th></th>\n",
              "      <th></th>\n",
              "      <th></th>\n",
              "      <th></th>\n",
              "      <th></th>\n",
              "      <th></th>\n",
              "      <th></th>\n",
              "      <th></th>\n",
              "    </tr>\n",
              "  </thead>\n",
              "  <tbody>\n",
              "    <tr>\n",
              "      <th>892</th>\n",
              "      <td>3</td>\n",
              "      <td>Kelly, Mr. James</td>\n",
              "      <td>male</td>\n",
              "      <td>34.5</td>\n",
              "      <td>0</td>\n",
              "      <td>0</td>\n",
              "      <td>330911</td>\n",
              "      <td>7.8292</td>\n",
              "      <td>NaN</td>\n",
              "      <td>Q</td>\n",
              "    </tr>\n",
              "    <tr>\n",
              "      <th>893</th>\n",
              "      <td>3</td>\n",
              "      <td>Wilkes, Mrs. James (Ellen Needs)</td>\n",
              "      <td>female</td>\n",
              "      <td>47.0</td>\n",
              "      <td>1</td>\n",
              "      <td>0</td>\n",
              "      <td>363272</td>\n",
              "      <td>7.0000</td>\n",
              "      <td>NaN</td>\n",
              "      <td>S</td>\n",
              "    </tr>\n",
              "    <tr>\n",
              "      <th>894</th>\n",
              "      <td>2</td>\n",
              "      <td>Myles, Mr. Thomas Francis</td>\n",
              "      <td>male</td>\n",
              "      <td>62.0</td>\n",
              "      <td>0</td>\n",
              "      <td>0</td>\n",
              "      <td>240276</td>\n",
              "      <td>9.6875</td>\n",
              "      <td>NaN</td>\n",
              "      <td>Q</td>\n",
              "    </tr>\n",
              "  </tbody>\n",
              "</table>\n",
              "</div>"
            ],
            "text/plain": [
              "             Pclass                              Name  ... Cabin  Embarked\n",
              "PassengerId                                            ...                \n",
              "892               3                  Kelly, Mr. James  ...   NaN         Q\n",
              "893               3  Wilkes, Mrs. James (Ellen Needs)  ...   NaN         S\n",
              "894               2         Myles, Mr. Thomas Francis  ...   NaN         Q\n",
              "\n",
              "[3 rows x 10 columns]"
            ]
          },
          "metadata": {
            "tags": []
          },
          "execution_count": 24
        }
      ]
    },
    {
      "cell_type": "code",
      "metadata": {
        "id": "CgIIdcsZG96T",
        "colab_type": "code",
        "outputId": "bd34bd42-9644-4b6b-b2d9-9dc89a43f214",
        "colab": {
          "base_uri": "https://localhost:8080/",
          "height": 175
        }
      },
      "source": [
        "# Checking the last 3 rows of the Testing Data\n",
        "TestData.tail(3)"
      ],
      "execution_count": 0,
      "outputs": [
        {
          "output_type": "execute_result",
          "data": {
            "text/html": [
              "<div>\n",
              "<style scoped>\n",
              "    .dataframe tbody tr th:only-of-type {\n",
              "        vertical-align: middle;\n",
              "    }\n",
              "\n",
              "    .dataframe tbody tr th {\n",
              "        vertical-align: top;\n",
              "    }\n",
              "\n",
              "    .dataframe thead th {\n",
              "        text-align: right;\n",
              "    }\n",
              "</style>\n",
              "<table border=\"1\" class=\"dataframe\">\n",
              "  <thead>\n",
              "    <tr style=\"text-align: right;\">\n",
              "      <th></th>\n",
              "      <th>Pclass</th>\n",
              "      <th>Name</th>\n",
              "      <th>Sex</th>\n",
              "      <th>Age</th>\n",
              "      <th>SibSp</th>\n",
              "      <th>Parch</th>\n",
              "      <th>Ticket</th>\n",
              "      <th>Fare</th>\n",
              "      <th>Cabin</th>\n",
              "      <th>Embarked</th>\n",
              "    </tr>\n",
              "    <tr>\n",
              "      <th>PassengerId</th>\n",
              "      <th></th>\n",
              "      <th></th>\n",
              "      <th></th>\n",
              "      <th></th>\n",
              "      <th></th>\n",
              "      <th></th>\n",
              "      <th></th>\n",
              "      <th></th>\n",
              "      <th></th>\n",
              "      <th></th>\n",
              "    </tr>\n",
              "  </thead>\n",
              "  <tbody>\n",
              "    <tr>\n",
              "      <th>1307</th>\n",
              "      <td>3</td>\n",
              "      <td>Saether, Mr. Simon Sivertsen</td>\n",
              "      <td>male</td>\n",
              "      <td>38.5</td>\n",
              "      <td>0</td>\n",
              "      <td>0</td>\n",
              "      <td>SOTON/O.Q. 3101262</td>\n",
              "      <td>7.2500</td>\n",
              "      <td>NaN</td>\n",
              "      <td>S</td>\n",
              "    </tr>\n",
              "    <tr>\n",
              "      <th>1308</th>\n",
              "      <td>3</td>\n",
              "      <td>Ware, Mr. Frederick</td>\n",
              "      <td>male</td>\n",
              "      <td>NaN</td>\n",
              "      <td>0</td>\n",
              "      <td>0</td>\n",
              "      <td>359309</td>\n",
              "      <td>8.0500</td>\n",
              "      <td>NaN</td>\n",
              "      <td>S</td>\n",
              "    </tr>\n",
              "    <tr>\n",
              "      <th>1309</th>\n",
              "      <td>3</td>\n",
              "      <td>Peter, Master. Michael J</td>\n",
              "      <td>male</td>\n",
              "      <td>NaN</td>\n",
              "      <td>1</td>\n",
              "      <td>1</td>\n",
              "      <td>2668</td>\n",
              "      <td>22.3583</td>\n",
              "      <td>NaN</td>\n",
              "      <td>C</td>\n",
              "    </tr>\n",
              "  </tbody>\n",
              "</table>\n",
              "</div>"
            ],
            "text/plain": [
              "             Pclass                          Name   Sex  ...     Fare  Cabin  Embarked\n",
              "PassengerId                                              ...                          \n",
              "1307              3  Saether, Mr. Simon Sivertsen  male  ...   7.2500    NaN         S\n",
              "1308              3           Ware, Mr. Frederick  male  ...   8.0500    NaN         S\n",
              "1309              3      Peter, Master. Michael J  male  ...  22.3583    NaN         C\n",
              "\n",
              "[3 rows x 10 columns]"
            ]
          },
          "metadata": {
            "tags": []
          },
          "execution_count": 25
        }
      ]
    },
    {
      "cell_type": "code",
      "metadata": {
        "id": "Gs0tJ2hWHFF1",
        "colab_type": "code",
        "outputId": "d271fc8c-3d30-4c86-fd5b-76ce807455dc",
        "colab": {
          "base_uri": "https://localhost:8080/",
          "height": 54
        }
      },
      "source": [
        "print(f'The Training Data set has {TrainData.shape[0]} rows & {TrainData.shape[1]} columns')\n",
        "print(f'The Testing Data set has {TestData.shape[0]} rows & {TestData.shape[1]} columns')"
      ],
      "execution_count": 0,
      "outputs": [
        {
          "output_type": "stream",
          "text": [
            "The Training Data set has 891 rows & 11 columns\n",
            "The Testing Data set has 418 rows & 10 columns\n"
          ],
          "name": "stdout"
        }
      ]
    },
    {
      "cell_type": "code",
      "metadata": {
        "id": "UhxOR4nINatH",
        "colab_type": "code",
        "outputId": "8f443c20-c5d2-4ca9-ff3b-bb254232a145",
        "colab": {
          "base_uri": "https://localhost:8080/",
          "height": 348
        }
      },
      "source": [
        "TrainData.info()"
      ],
      "execution_count": 0,
      "outputs": [
        {
          "output_type": "stream",
          "text": [
            "<class 'pandas.core.frame.DataFrame'>\n",
            "Int64Index: 891 entries, 1 to 891\n",
            "Data columns (total 11 columns):\n",
            " #   Column    Non-Null Count  Dtype  \n",
            "---  ------    --------------  -----  \n",
            " 0   Survived  891 non-null    int64  \n",
            " 1   Pclass    891 non-null    int64  \n",
            " 2   Name      891 non-null    object \n",
            " 3   Sex       891 non-null    object \n",
            " 4   Age       714 non-null    float64\n",
            " 5   SibSp     891 non-null    int64  \n",
            " 6   Parch     891 non-null    int64  \n",
            " 7   Ticket    891 non-null    object \n",
            " 8   Fare      891 non-null    float64\n",
            " 9   Cabin     204 non-null    object \n",
            " 10  Embarked  889 non-null    object \n",
            "dtypes: float64(2), int64(4), object(5)\n",
            "memory usage: 83.5+ KB\n"
          ],
          "name": "stdout"
        }
      ]
    },
    {
      "cell_type": "code",
      "metadata": {
        "id": "ucaAsWK7Nsdt",
        "colab_type": "code",
        "outputId": "e9465cc8-81f8-4331-8e04-b8730eb729c1",
        "colab": {
          "base_uri": "https://localhost:8080/",
          "height": 329
        }
      },
      "source": [
        "TestData.info()"
      ],
      "execution_count": 0,
      "outputs": [
        {
          "output_type": "stream",
          "text": [
            "<class 'pandas.core.frame.DataFrame'>\n",
            "Int64Index: 418 entries, 892 to 1309\n",
            "Data columns (total 10 columns):\n",
            " #   Column    Non-Null Count  Dtype  \n",
            "---  ------    --------------  -----  \n",
            " 0   Pclass    418 non-null    int64  \n",
            " 1   Name      418 non-null    object \n",
            " 2   Sex       418 non-null    object \n",
            " 3   Age       332 non-null    float64\n",
            " 4   SibSp     418 non-null    int64  \n",
            " 5   Parch     418 non-null    int64  \n",
            " 6   Ticket    418 non-null    object \n",
            " 7   Fare      417 non-null    float64\n",
            " 8   Cabin     91 non-null     object \n",
            " 9   Embarked  418 non-null    object \n",
            "dtypes: float64(2), int64(3), object(5)\n",
            "memory usage: 35.9+ KB\n"
          ],
          "name": "stdout"
        }
      ]
    },
    {
      "cell_type": "markdown",
      "metadata": {
        "id": "LtfnZrY2JokY",
        "colab_type": "text"
      },
      "source": [
        "# Missing Values"
      ]
    },
    {
      "cell_type": "code",
      "metadata": {
        "id": "Qj4YSwwCIKnB",
        "colab_type": "code",
        "colab": {}
      },
      "source": [
        "def checkMissing(data):\n",
        "    \"\"\"\n",
        "    Function that accepts a DataFrame as an argument and prints out the number\n",
        "    of Missing Values with a visualization.\n",
        "    \"\"\"\n",
        "    print('Following are the number of missing values in the columns')\n",
        "    for index, values in data.isna().sum().items():\n",
        "        if values > 0:\n",
        "            print(f'{index}: {values}({round(values/data.shape[0]*100, 2)}%)')\n",
        "    print()\n",
        "\n",
        "    missingno.matrix(data, figsize=(12,6))"
      ],
      "execution_count": 0,
      "outputs": []
    },
    {
      "cell_type": "code",
      "metadata": {
        "id": "ZHXhOqIhMKyP",
        "colab_type": "code",
        "outputId": "6cb468ad-e515-4fa1-f94c-83ecdba80264",
        "colab": {
          "base_uri": "https://localhost:8080/",
          "height": 539
        }
      },
      "source": [
        "checkMissing(TrainData)"
      ],
      "execution_count": 0,
      "outputs": [
        {
          "output_type": "stream",
          "text": [
            "Following are the number of missing values in the columns\n",
            "Age: 177(19.87%)\n",
            "Cabin: 687(77.1%)\n",
            "Embarked: 2(0.22%)\n",
            "\n"
          ],
          "name": "stdout"
        },
        {
          "output_type": "display_data",
          "data": {
            "image/png": "[encoded data removed]",
            "text/plain": [
              "<Figure size 864x432 with 2 Axes>"
            ]
          },
          "metadata": {
            "tags": []
          }
        }
      ]
    },
    {
      "cell_type": "code",
      "metadata": {
        "id": "lPy54plxMkt6",
        "colab_type": "code",
        "outputId": "c8068178-08f3-4f38-b531-e140ed118c4a",
        "colab": {
          "base_uri": "https://localhost:8080/",
          "height": 538
        }
      },
      "source": [
        "checkMissing(TestData)"
      ],
      "execution_count": 0,
      "outputs": [
        {
          "output_type": "stream",
          "text": [
            "Following are the number of missing values in the columns\n",
            "Age: 86(20.57%)\n",
            "Fare: 1(0.24%)\n",
            "Cabin: 327(78.23%)\n",
            "\n"
          ],
          "name": "stdout"
        },
        {
          "output_type": "display_data",
          "data": {
            "image/png": "[encoded data removed]",
            "text/plain": [
              "<Figure size 864x432 with 2 Axes>"
            ]
          },
          "metadata": {
            "tags": []
          }
        }
      ]
    },
    {
      "cell_type": "markdown",
      "metadata": {
        "id": "JNl0F9GcOD4E",
        "colab_type": "text"
      },
      "source": [
        "# Categorical Variables"
      ]
    },
    {
      "cell_type": "markdown",
      "metadata": {
        "id": "2JgH1xo3aV9m",
        "colab_type": "text"
      },
      "source": [
        "## Column Names"
      ]
    },
    {
      "cell_type": "code",
      "metadata": {
        "id": "swPa6TMCOIhC",
        "colab_type": "code",
        "outputId": "feea1874-2907-416b-a519-984b6983e376",
        "colab": {
          "base_uri": "https://localhost:8080/",
          "height": 219
        }
      },
      "source": [
        "# Columns names of the Training Data variables\n",
        "list(TrainData.columns)"
      ],
      "execution_count": 0,
      "outputs": [
        {
          "output_type": "execute_result",
          "data": {
            "text/plain": [
              "['Survived',\n",
              " 'Pclass',\n",
              " 'Name',\n",
              " 'Sex',\n",
              " 'Age',\n",
              " 'SibSp',\n",
              " 'Parch',\n",
              " 'Ticket',\n",
              " 'Fare',\n",
              " 'Cabin',\n",
              " 'Embarked']"
            ]
          },
          "metadata": {
            "tags": []
          },
          "execution_count": 70
        }
      ]
    },
    {
      "cell_type": "code",
      "metadata": {
        "id": "j18fy1IlOOSQ",
        "colab_type": "code",
        "outputId": "53c28349-8567-47de-8054-5819a229e499",
        "colab": {
          "base_uri": "https://localhost:8080/",
          "height": 201
        }
      },
      "source": [
        "# Column names of the Testing Data variables\n",
        "list(TestData.columns)"
      ],
      "execution_count": 0,
      "outputs": [
        {
          "output_type": "execute_result",
          "data": {
            "text/plain": [
              "['Pclass',\n",
              " 'Name',\n",
              " 'Sex',\n",
              " 'Age',\n",
              " 'SibSp',\n",
              " 'Parch',\n",
              " 'Ticket',\n",
              " 'Fare',\n",
              " 'Cabin',\n",
              " 'Embarked']"
            ]
          },
          "metadata": {
            "tags": []
          },
          "execution_count": 71
        }
      ]
    },
    {
      "cell_type": "markdown",
      "metadata": {
        "id": "ZTW7t7j9agiD",
        "colab_type": "text"
      },
      "source": [
        "## Passenger Class"
      ]
    },
    {
      "cell_type": "code",
      "metadata": {
        "id": "na2AkVtzR1xq",
        "colab_type": "code",
        "outputId": "2e067613-f363-44d5-e4cb-7ad5120a3bc7",
        "colab": {
          "base_uri": "https://localhost:8080/",
          "height": 90
        }
      },
      "source": [
        "TrainData['Pclass'].value_counts()"
      ],
      "execution_count": 0,
      "outputs": [
        {
          "output_type": "execute_result",
          "data": {
            "text/plain": [
              "3    491\n",
              "1    216\n",
              "2    184\n",
              "Name: Pclass, dtype: int64"
            ]
          },
          "metadata": {
            "tags": []
          },
          "execution_count": 83
        }
      ]
    },
    {
      "cell_type": "markdown",
      "metadata": {
        "id": "Hu2hYzozajaM",
        "colab_type": "text"
      },
      "source": [
        "## Survival Count"
      ]
    },
    {
      "cell_type": "code",
      "metadata": {
        "id": "NeEAe8IiOTnf",
        "colab_type": "code",
        "outputId": "4f1b5fd4-1d73-4f66-ba8d-6aae566354c1",
        "colab": {
          "base_uri": "https://localhost:8080/",
          "height": 72
        }
      },
      "source": [
        "TrainData['Survived'].value_counts()"
      ],
      "execution_count": 0,
      "outputs": [
        {
          "output_type": "execute_result",
          "data": {
            "text/plain": [
              "0    549\n",
              "1    342\n",
              "Name: Survived, dtype: int64"
            ]
          },
          "metadata": {
            "tags": []
          },
          "execution_count": 73
        }
      ]
    },
    {
      "cell_type": "markdown",
      "metadata": {
        "id": "voEke2pDamhs",
        "colab_type": "text"
      },
      "source": [
        "## Sex"
      ]
    },
    {
      "cell_type": "code",
      "metadata": {
        "id": "qhADEjbyOeLp",
        "colab_type": "code",
        "outputId": "ae4eff14-af0b-4632-f283-c019e4c99cf9",
        "colab": {
          "base_uri": "https://localhost:8080/",
          "height": 72
        }
      },
      "source": [
        "TrainData['Sex'].value_counts()"
      ],
      "execution_count": 0,
      "outputs": [
        {
          "output_type": "execute_result",
          "data": {
            "text/plain": [
              "male      577\n",
              "female    314\n",
              "Name: Sex, dtype: int64"
            ]
          },
          "metadata": {
            "tags": []
          },
          "execution_count": 74
        }
      ]
    },
    {
      "cell_type": "markdown",
      "metadata": {
        "id": "TBwDIVoSapea",
        "colab_type": "text"
      },
      "source": [
        "## Siblings and/or Spouse"
      ]
    },
    {
      "cell_type": "code",
      "metadata": {
        "id": "zp2yO_6kPAqF",
        "colab_type": "code",
        "outputId": "59a9652b-4b56-414a-965b-14c268f75ee3",
        "colab": {
          "base_uri": "https://localhost:8080/",
          "height": 164
        }
      },
      "source": [
        "TrainData['SibSp'].value_counts()"
      ],
      "execution_count": 0,
      "outputs": [
        {
          "output_type": "execute_result",
          "data": {
            "text/plain": [
              "0    608\n",
              "1    209\n",
              "2     28\n",
              "4     18\n",
              "3     16\n",
              "8      7\n",
              "5      5\n",
              "Name: SibSp, dtype: int64"
            ]
          },
          "metadata": {
            "tags": []
          },
          "execution_count": 75
        }
      ]
    },
    {
      "cell_type": "markdown",
      "metadata": {
        "id": "RTaza4rcazeC",
        "colab_type": "text"
      },
      "source": [
        "## Parents and/or Children"
      ]
    },
    {
      "cell_type": "code",
      "metadata": {
        "id": "yi5XIr77PHuO",
        "colab_type": "code",
        "outputId": "9b2832f0-9e82-48c5-e4e3-2b44e7e4061d",
        "colab": {
          "base_uri": "https://localhost:8080/",
          "height": 164
        }
      },
      "source": [
        "TrainData['Parch'].value_counts()"
      ],
      "execution_count": 0,
      "outputs": [
        {
          "output_type": "execute_result",
          "data": {
            "text/plain": [
              "0    678\n",
              "1    118\n",
              "2     80\n",
              "5      5\n",
              "3      5\n",
              "4      4\n",
              "6      1\n",
              "Name: Parch, dtype: int64"
            ]
          },
          "metadata": {
            "tags": []
          },
          "execution_count": 76
        }
      ]
    },
    {
      "cell_type": "markdown",
      "metadata": {
        "id": "kW0F4VFra4SG",
        "colab_type": "text"
      },
      "source": [
        "## Embarkation Destination"
      ]
    },
    {
      "cell_type": "code",
      "metadata": {
        "id": "G4rC8snvPTVJ",
        "colab_type": "code",
        "outputId": "b7fcd668-bbe3-4894-d98e-8b6030762148",
        "colab": {
          "base_uri": "https://localhost:8080/",
          "height": 90
        }
      },
      "source": [
        "TrainData['Embarked'].value_counts()"
      ],
      "execution_count": 0,
      "outputs": [
        {
          "output_type": "execute_result",
          "data": {
            "text/plain": [
              "S    644\n",
              "C    168\n",
              "Q     77\n",
              "Name: Embarked, dtype: int64"
            ]
          },
          "metadata": {
            "tags": []
          },
          "execution_count": 82
        }
      ]
    },
    {
      "cell_type": "markdown",
      "metadata": {
        "id": "KNWATrRta7oy",
        "colab_type": "text"
      },
      "source": [
        "### Notes"
      ]
    },
    {
      "cell_type": "markdown",
      "metadata": {
        "id": "qQ7R_20UP-XI",
        "colab_type": "text"
      },
      "source": [
        "It appears that `Surived`, `Sex`& `Embarked` are nominal while `Pclass`, `Age`, `SibSp`, `Fare` & `Parch` are ordinals. It should also be noted that `Name`,`Cabin` & `Ticket` aren't Categorical."
      ]
    }
  ]
}