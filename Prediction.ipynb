{
  "nbformat": 4,
  "nbformat_minor": 0,
  "metadata": {
    "colab": {
      "name": "Prediction.ipynb",
      "provenance": [],
      "authorship_tag": "ABX9TyMcSQCG+FwHH91PD+yz1Wmy",
      "include_colab_link": true
    },
    "kernelspec": {
      "name": "python3",
      "display_name": "Python 3"
    }
  },
  "cells": [
    {
      "cell_type": "markdown",
      "metadata": {
        "id": "view-in-github",
        "colab_type": "text"
      },
      "source": [
        "<a href=\"https://colab.research.google.com/github/Jarmos-san/Titanic/blob/master/Prediction.ipynb\" target=\"_parent\"><img src=\"https://colab.research.google.com/assets/colab-badge.svg\" alt=\"Open In Colab\"/></a>"
      ]
    },
    {
      "cell_type": "markdown",
      "metadata": {
        "id": "Eg0B7cuaWdWN",
        "colab_type": "text"
      },
      "source": [
        "The Estimators to use:\n",
        "- Linear SVC\n",
        "- KNN\n",
        "- SVC\n",
        "- Ensemble Classifier (RandomForests maybe?)\n",
        "\n",
        "[Choosing the Right Estimator](https://scikit-learn.org/stable/tutorial/machine_learning_map/index.html)"
      ]
    }
  ]
}